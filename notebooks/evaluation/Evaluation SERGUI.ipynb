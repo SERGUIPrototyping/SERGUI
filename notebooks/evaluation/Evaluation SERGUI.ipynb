{
 "cells": [
  {
   "cell_type": "code",
   "execution_count": 1,
   "id": "770ab96b",
   "metadata": {},
   "outputs": [
    {
     "name": "stderr",
     "output_type": "stream",
     "text": [
      "C:\\Users\\kkolt\\AppData\\Local\\Temp\\ipykernel_44896\\365501679.py:1: DeprecationWarning: Importing display from IPython.core.display is deprecated since IPython 7.14, please import from IPython display\n",
      "  from IPython.core.display import display, HTML\n"
     ]
    },
    {
     "data": {
      "text/html": [
       "<style>div.output_scroll { height: 44em; }</style>"
      ],
      "text/plain": [
       "<IPython.core.display.HTML object>"
      ]
     },
     "metadata": {},
     "output_type": "display_data"
    }
   ],
   "source": [
    "from IPython.core.display import display, HTML\n",
    "display(HTML(\"<style>div.output_scroll { height: 44em; }</style>\"))\n",
    "\n",
    "from typing import Text, Generator, Tuple, List, Optional, Dict, Set\n",
    "import pandas as pd\n",
    "import numpy as np\n",
    "from ast import literal_eval\n",
    "import matplotlib.pyplot as plt\n",
    "import seaborn as sns\n",
    "import pickle\n",
    "import os\n",
    "import json\n",
    "import re\n",
    "from tabulate import tabulate\n",
    "sns.set_theme()\n",
    "\n",
    "\n",
    "pd.set_option('display.max_rows', 500)\n",
    "pd.set_option('display.max_columns', 500)\n",
    "pd.set_option('display.width', 5000)\n",
    "pd.set_option('display.max_colwidth', 5000)"
   ]
  },
  {
   "cell_type": "code",
   "execution_count": 2,
   "id": "5f89f73e",
   "metadata": {},
   "outputs": [],
   "source": [
    "abs_path_data = '/SERGUI/data/'"
   ]
  },
  {
   "cell_type": "markdown",
   "id": "d452aa55",
   "metadata": {},
   "source": [
    "# 0. Evaluation Metrics"
   ]
  },
  {
   "cell_type": "code",
   "execution_count": 3,
   "id": "0285fca6",
   "metadata": {},
   "outputs": [],
   "source": [
    "from typing import Text, List, Callable, Dict, Optional, Tuple\n",
    "\n",
    "class Metric(object):\n",
    "\n",
    "    def __init__(self, func: Callable, name: Text):\n",
    "        self.func = func\n",
    "        self.name = name\n",
    "    \n",
    "    @staticmethod\n",
    "    def binarize_annotations(annotations: List[int]) -> List[int]:\n",
    "        return [1 if anno >= 2 else 0 for anno in annotations]\n",
    "\n",
    "    @staticmethod\n",
    "    def fill_results_zeros(annotations: List[int], k: int) -> List[int]:\n",
    "        if len(annotations) >= k: return annotations\n",
    "        else: return annotations + list(np.zeros((k - len(annotations)), dtype=int))"
   ]
  },
  {
   "cell_type": "code",
   "execution_count": 4,
   "id": "26e729d5",
   "metadata": {},
   "outputs": [],
   "source": [
    "import numpy as np\n",
    "\n",
    "\n",
    "def mean_reciprocal_rank(rs):\n",
    "    \"\"\"Score is reciprocal of the rank of the first relevant item\n",
    "\n",
    "    First element is 'rank 1'.  Relevance is binary (nonzero is relevant).\n",
    "\n",
    "    Example from http://en.wikipedia.org/wiki/Mean_reciprocal_rank\n",
    "    >>> rs = [[0, 0, 1], [0, 1, 0], [1, 0, 0]]\n",
    "    >>> mean_reciprocal_rank(rs)\n",
    "    0.61111111111111105\n",
    "    >>> rs = np.array([[0, 0, 0], [0, 1, 0], [1, 0, 0]])\n",
    "    >>> mean_reciprocal_rank(rs)\n",
    "    0.5\n",
    "    >>> rs = [[0, 0, 0, 1], [1, 0, 0], [1, 0, 0]]\n",
    "    >>> mean_reciprocal_rank(rs)\n",
    "    0.75\n",
    "\n",
    "    Args:\n",
    "        rs: Iterator of relevance scores (list or numpy) in rank order\n",
    "            (first element is the first item)\n",
    "\n",
    "    Returns:\n",
    "        Mean reciprocal rank\n",
    "    \"\"\"\n",
    "    rs = (np.asarray(r).nonzero()[0] for r in rs)\n",
    "    return np.mean([1. / (r[0] + 1) if r.size else 0. for r in rs])\n",
    "\n",
    "\n",
    "def reciprocal_rank(r):\n",
    "    # r is a binary array of relevance scores\n",
    "    # computes the reciprocal rank for the given r\n",
    "    non_zero = np.count_nonzero(r)\n",
    "    if non_zero == 0:\n",
    "        return 0\n",
    "    return (1. / (np.asfarray(r).nonzero()[0][0] + 1))\n",
    "\n",
    "\n",
    "def r_precision(r):\n",
    "    \"\"\"Score is precision after all relevant documents have been retrieved\n",
    "\n",
    "    Relevance is binary (nonzero is relevant).\n",
    "\n",
    "    >>> r = [0, 0, 1]\n",
    "    >>> r_precision(r)\n",
    "    0.33333333333333331\n",
    "    >>> r = [0, 1, 0]\n",
    "    >>> r_precision(r)\n",
    "    0.5\n",
    "    >>> r = [1, 0, 0]\n",
    "    >>> r_precision(r)\n",
    "    1.0\n",
    "\n",
    "    Args:\n",
    "        r: Relevance scores (list or numpy) in rank order\n",
    "            (first element is the first item)\n",
    "\n",
    "    Returns:\n",
    "        R Precision\n",
    "    \"\"\"\n",
    "    r = np.asarray(r) != 0\n",
    "    z = r.nonzero()[0]\n",
    "    if not z.size:\n",
    "        return 0.\n",
    "    return np.mean(r[:z[-1] + 1])\n",
    "\n",
    "\n",
    "def precision_at_k(r, k):\n",
    "    \"\"\"Score is precision @ k\n",
    "\n",
    "    Relevance is binary (nonzero is relevant).\n",
    "\n",
    "    >>> r = [0, 0, 1]\n",
    "    >>> precision_at_k(r, 1)\n",
    "    0.0\n",
    "    >>> precision_at_k(r, 2)\n",
    "    0.0\n",
    "    >>> precision_at_k(r, 3)\n",
    "    0.33333333333333331\n",
    "    >>> precision_at_k(r, 4)\n",
    "    Traceback (most recent call last):\n",
    "        File \"<stdin>\", line 1, in ?\n",
    "    ValueError: Relevance score length < k\n",
    "\n",
    "\n",
    "    Args:\n",
    "        r: Relevance scores (list or numpy) in rank order\n",
    "            (first element is the first item)\n",
    "\n",
    "    Returns:\n",
    "        Precision @ k\n",
    "\n",
    "    Raises:\n",
    "        ValueError: len(r) must be >= k\n",
    "    \"\"\"\n",
    "    assert k >= 1\n",
    "    r = np.asarray(r)[:k] != 0\n",
    "    if r.size != k:\n",
    "        raise ValueError('Relevance score length < k')\n",
    "    return np.mean(r)\n",
    "\n",
    "\n",
    "def average_precision(r):\n",
    "    \"\"\"Score is average precision (area under PR curve)\n",
    "\n",
    "    Relevance is binary (nonzero is relevant).\n",
    "\n",
    "    >>> r = [1, 1, 0, 1, 0, 1, 0, 0, 0, 1]\n",
    "    >>> delta_r = 1. / sum(r)\n",
    "    >>> sum([sum(r[:x + 1]) / (x + 1.) * delta_r for x, y in enumerate(r) if y])\n",
    "    0.7833333333333333\n",
    "    >>> average_precision(r)\n",
    "    0.78333333333333333\n",
    "\n",
    "    Args:\n",
    "        r: Relevance scores (list or numpy) in rank order\n",
    "            (first element is the first item)\n",
    "\n",
    "    Returns:\n",
    "        Average precision\n",
    "    \"\"\"\n",
    "    r = np.asarray(r) != 0\n",
    "    out = [precision_at_k(r, k + 1) for k in range(r.size) if r[k]]\n",
    "    if not out:\n",
    "        return 0.\n",
    "    return np.mean(out)\n",
    "\n",
    "\n",
    "def mean_average_precision(rs):\n",
    "    \"\"\"Score is mean average precision\n",
    "\n",
    "    Relevance is binary (nonzero is relevant).\n",
    "\n",
    "    >>> rs = [[1, 1, 0, 1, 0, 1, 0, 0, 0, 1]]\n",
    "    >>> mean_average_precision(rs)\n",
    "    0.78333333333333333\n",
    "    >>> rs = [[1, 1, 0, 1, 0, 1, 0, 0, 0, 1], [0]]\n",
    "    >>> mean_average_precision(rs)\n",
    "    0.39166666666666666\n",
    "\n",
    "    Args:\n",
    "        rs: Iterator of relevance scores (list or numpy) in rank order\n",
    "            (first element is the first item)\n",
    "\n",
    "    Returns:\n",
    "        Mean average precision\n",
    "    \"\"\"\n",
    "    return np.mean([average_precision(r) for r in rs])\n",
    "\n",
    "\n",
    "def dcg_at_k(r, k, method=0):\n",
    "    \"\"\"Score is discounted cumulative gain (dcg)\n",
    "\n",
    "    Relevance is positive real values.  Can use binary\n",
    "    as the previous methods.\n",
    "\n",
    "    Example from\n",
    "    http://www.stanford.edu/class/cs276/handouts/EvaluationNew-handout-6-per.pdf\n",
    "    >>> r = [3, 2, 3, 0, 0, 1, 2, 2, 3, 0]\n",
    "    >>> dcg_at_k(r, 1)\n",
    "    3.0\n",
    "    >>> dcg_at_k(r, 1, method=1)\n",
    "    3.0\n",
    "    >>> dcg_at_k(r, 2)\n",
    "    5.0\n",
    "    >>> dcg_at_k(r, 2, method=1)\n",
    "    4.2618595071429155\n",
    "    >>> dcg_at_k(r, 10)\n",
    "    9.6051177391888114\n",
    "    >>> dcg_at_k(r, 11)\n",
    "    9.6051177391888114\n",
    "\n",
    "    Args:\n",
    "        r: Relevance scores (list or numpy) in rank order\n",
    "            (first element is the first item)\n",
    "        k: Number of results to consider\n",
    "        method: If 0 then weights are [1.0, 1.0, 0.6309, 0.5, 0.4307, ...]\n",
    "                If 1 then weights are [1.0, 0.6309, 0.5, 0.4307, ...]\n",
    "\n",
    "    Returns:\n",
    "        Discounted cumulative gain\n",
    "    \"\"\"\n",
    "    r = np.asfarray(r)[:k]\n",
    "    if r.size:\n",
    "        if method == 0:\n",
    "            return r[0] + np.sum(r[1:] / np.log2(np.arange(2, r.size + 1)))\n",
    "        elif method == 1:\n",
    "            return np.sum(r / np.log2(np.arange(2, r.size + 2)))\n",
    "        else:\n",
    "            raise ValueError('method must be 0 or 1.')\n",
    "    return 0.\n",
    "\n",
    "\n",
    "def ndcg_at_k(r, k, method=0):\n",
    "    \"\"\"Score is normalized discounted cumulative gain (ndcg)\n",
    "\n",
    "    Relevance is positive real values.  Can use binary\n",
    "    as the previous methods.\n",
    "\n",
    "    Example from\n",
    "    http://www.stanford.edu/class/cs276/handouts/EvaluationNew-handout-6-per.pdf\n",
    "    >>> r = [3, 2, 3, 0, 0, 1, 2, 2, 3, 0]\n",
    "    >>> ndcg_at_k(r, 1)\n",
    "    1.0\n",
    "    >>> r = [2, 1, 2, 0]\n",
    "    >>> ndcg_at_k(r, 4)\n",
    "    0.9203032077642922\n",
    "    >>> ndcg_at_k(r, 4, method=1)\n",
    "    0.96519546960144276\n",
    "    >>> ndcg_at_k([0], 1)\n",
    "    0.0\n",
    "    >>> ndcg_at_k([1], 2)\n",
    "    1.0\n",
    "\n",
    "    Args:\n",
    "        r: Relevance scores (list or numpy) in rank order\n",
    "            (first element is the first item)\n",
    "        k: Number of results to consider\n",
    "        method: If 0 then weights are [1.0, 1.0, 0.6309, 0.5, 0.4307, ...]\n",
    "                If 1 then weights are [1.0, 0.6309, 0.5, 0.4307, ...]\n",
    "\n",
    "    Returns:\n",
    "        Normalized discounted cumulative gain\n",
    "    \"\"\"\n",
    "    dcg_max = dcg_at_k(sorted(r, reverse=True), k, method)\n",
    "    if not dcg_max:\n",
    "        return 0.\n",
    "    return dcg_at_k(r, k, method) / dcg_max\n",
    "\n",
    "def hits_at_k(r, k):\n",
    "    # r is a binary relevance array\n",
    "    # k is the cutoff index\n",
    "    # This metric returns 1 if there is at least one relevant item up to rank k else 0\n",
    "    if len(r) == 0:\n",
    "        return 0.\n",
    "    r = np.asfarray(r)[:k]\n",
    "    if np.sum(r) > 0:\n",
    "        return 1.\n",
    "    else:\n",
    "        return 0."
   ]
  },
  {
   "cell_type": "code",
   "execution_count": 5,
   "id": "8d44a5c8",
   "metadata": {},
   "outputs": [],
   "source": [
    "    aveP = lambda annotations: average_precision(\n",
    "        Metric.binarize_annotations(annotations))\n",
    "    metricAveP = Metric(func=aveP, name='AveP')\n",
    "    hitsAt1 = lambda annotations: hits_at_k(\n",
    "        Metric.binarize_annotations(\n",
    "        Metric.fill_results_zeros(annotations, 1)\n",
    "        ), 1)\n",
    "    metricHitsAt1 = Metric(func=hitsAt1, name='HITS@1')\n",
    "    hitsAt2 = lambda annotations: hits_at_k(\n",
    "        Metric.binarize_annotations(\n",
    "        Metric.fill_results_zeros(annotations, 2)\n",
    "        ), 2)\n",
    "    metricHitsAt2 = Metric(func=hitsAt2, name='HITS@2')\n",
    "    hitsAt3 = lambda annotations: hits_at_k(\n",
    "        Metric.binarize_annotations(\n",
    "        Metric.fill_results_zeros(annotations, 3)\n",
    "        ), 3)\n",
    "    metricHitsAt3 = Metric(func=hitsAt3, name='HITS@3')\n",
    "    hitsAt5 = lambda annotations: hits_at_k(\n",
    "        Metric.binarize_annotations(\n",
    "        Metric.fill_results_zeros(annotations, 5)\n",
    "        ), 5)\n",
    "    metricHitsAt5 = Metric(func=hitsAt5, name='HITS@5')\n",
    "    hitsAt7 = lambda annotations: hits_at_k(\n",
    "        Metric.binarize_annotations(\n",
    "            Metric.fill_results_zeros(annotations, 7)\n",
    "        ), 7)\n",
    "    metricHitsAt7 = Metric(func=hitsAt7, name='HITS@7')\n",
    "    hitsAt10 = lambda annotations: hits_at_k(\n",
    "        Metric.binarize_annotations(\n",
    "        Metric.fill_results_zeros(annotations, 10)\n",
    "        ), 10)\n",
    "    metricHitsAt10 = Metric(func=hitsAt10, name='HITS@10')\n",
    "    hitsAt15 = lambda annotations: hits_at_k(\n",
    "        Metric.binarize_annotations(\n",
    "        Metric.fill_results_zeros(annotations, 15)\n",
    "        ), 15)\n",
    "    metricHitsAt15 = Metric(func=hitsAt15, name='HITS@15')\n",
    "    recipRank = lambda annotations: reciprocal_rank(\n",
    "        Metric.binarize_annotations(\n",
    "            Metric.fill_results_zeros(annotations, 15)\n",
    "        ))\n",
    "    metricRecipRank = Metric(func=recipRank, name='RecipRank')\n",
    "    pAt1 = lambda annotations: precision_at_k(\n",
    "        Metric.binarize_annotations(\n",
    "            Metric.fill_results_zeros(annotations, 1)), 1)\n",
    "    metricPAt1 = Metric(func=pAt1, name='P@1')\n",
    "    pAt2 = lambda annotations: precision_at_k(\n",
    "        Metric.binarize_annotations(\n",
    "            Metric.fill_results_zeros(annotations, 2)\n",
    "        ), 2)\n",
    "    metricPAt2 = Metric(func=pAt2, name='P@2')\n",
    "    pAt3 = lambda annotations: precision_at_k(\n",
    "        Metric.binarize_annotations(\n",
    "            Metric.fill_results_zeros(annotations, 3)\n",
    "        ), 3)\n",
    "    metricPAt3 = Metric(func=pAt3, name='P@3')\n",
    "    pAt5 = lambda annotations: precision_at_k(\n",
    "        Metric.binarize_annotations(\n",
    "            Metric.fill_results_zeros(annotations, 5)\n",
    "        ), 5)\n",
    "    metricPAt5 = Metric(func=pAt5, name='P@5')\n",
    "    pAt7 = lambda annotations: precision_at_k(\n",
    "        Metric.binarize_annotations(\n",
    "            Metric.fill_results_zeros(annotations, 7)\n",
    "        ), 7)\n",
    "    metricPAt7 = Metric(func=pAt7, name='P@7')\n",
    "    pAt10 = lambda annotations: precision_at_k(\n",
    "        Metric.binarize_annotations(\n",
    "            Metric.fill_results_zeros(annotations, 10)\n",
    "        ), 10)\n",
    "    metricPAt10 = Metric(func=pAt10, name='P@10')\n",
    "    pAt15 = lambda annotations: precision_at_k(\n",
    "        Metric.binarize_annotations(\n",
    "            Metric.fill_results_zeros(annotations, 15)\n",
    "        ), 15)\n",
    "    metricPAt15 = Metric(func=pAt15, name='P@15')"
   ]
  },
  {
   "cell_type": "code",
   "execution_count": 6,
   "id": "13fdeb1f",
   "metadata": {},
   "outputs": [],
   "source": [
    "def print_table_report(relevance_groups, metrics, digits=3):\n",
    "    header = ['group']\n",
    "    header.extend([metric.name for metric in metrics])\n",
    "    table = []\n",
    "    for group_name, relevances in relevance_groups.iteritems():\n",
    "        row = [group_name]\n",
    "        for metric in metrics:\n",
    "            metric_val = round(np.mean([metric.func(rels) for rels in relevances]), digits)\n",
    "            metric_val = '.' + str(metric_val).split('.')[1]  if metric_val < 1.0 else '1.0'\n",
    "            row.append('|'+str(metric_val))\n",
    "        table.append(row)\n",
    "    print(tabulate(tabular_data=table, headers=header))\n",
    "    \n",
    "def print_table_report_dict(relevance_groups, metrics, digits=3):\n",
    "    header = ['group']\n",
    "    header.extend([metric.name for metric in metrics])\n",
    "    table = []\n",
    "    for group_name, relevances in relevance_groups.items():\n",
    "        row = [group_name]\n",
    "        for metric in metrics:\n",
    "            metric_val = round(np.mean([metric.func(rels) for rels in relevances]), digits)\n",
    "            metric_val = '.' + str(metric_val).split('.')[1]  if metric_val < 1.0 else '1.0'\n",
    "            row.append('|'+str(metric_val))\n",
    "        table.append(row)\n",
    "    print(tabulate(tabular_data=table, headers=header))\n",
    "\n",
    "def print_table_report_simpl(relevances, metrics, name, digits=3):\n",
    "    header = ['group']\n",
    "    header.extend([metric.name for metric in metrics])\n",
    "    table = []\n",
    "    row = [name]\n",
    "    for metric in metrics:\n",
    "            metric_val = round(np.mean([metric.func(rels) for rels in relevances]), digits)\n",
    "            metric_val = '.' + str(metric_val).split('.')[1]  if metric_val < 1.0 else '1.0'\n",
    "            row.append('|'+str(metric_val))\n",
    "    table.append(row)\n",
    "    tabulated_table = tabulate(tabular_data=table, headers=header)\n",
    "    print(tabulated_table)"
   ]
  },
  {
   "cell_type": "markdown",
   "id": "66e4cafc",
   "metadata": {},
   "source": [
    "# 1. Feature Recommendation Relevance Evaluation"
   ]
  },
  {
   "cell_type": "code",
   "execution_count": 7,
   "id": "46bc928b",
   "metadata": {},
   "outputs": [],
   "source": [
    "feature_recommendation_relevance_annotations = pd.read_csv(abs_path_data+\"/user_study/relevance/feature_recommended_relevance_annotation.csv\")\n",
    "feature_recommendation_relevance_annotations['ranking'] = feature_recommendation_relevance_annotations['ranking'].apply(literal_eval)\n",
    "feature_recommendation_relevance_annotations['timestamp'] = pd.to_datetime(feature_recommendation_relevance_annotations['timestamp'])\n",
    "feature_recommendation_relevance_annotations['feature_annotation_original'] =  feature_recommendation_relevance_annotations['feature_annotation']\n",
    "feature_recommendation_relevance_annotations['feature_annotation'] =  feature_recommendation_relevance_annotations['feature_annotation'].apply(lambda x: 2 if x==1 else 0)"
   ]
  },
  {
   "cell_type": "code",
   "execution_count": 8,
   "id": "2393e54a",
   "metadata": {},
   "outputs": [],
   "source": [
    "feature_recommendation_relevance_annotations = feature_recommendation_relevance_annotations.drop(columns='ranking')"
   ]
  },
  {
   "cell_type": "code",
   "execution_count": 9,
   "id": "f7ba394b",
   "metadata": {},
   "outputs": [],
   "source": [
    "feature_recommendation_relevance_annotations = feature_recommendation_relevance_annotations.sort_values('timestamp')"
   ]
  },
  {
   "cell_type": "code",
   "execution_count": 10,
   "id": "8c62f226",
   "metadata": {},
   "outputs": [
    {
     "data": {
      "text/html": [
       "<div>\n",
       "<style scoped>\n",
       "    .dataframe tbody tr th:only-of-type {\n",
       "        vertical-align: middle;\n",
       "    }\n",
       "\n",
       "    .dataframe tbody tr th {\n",
       "        vertical-align: top;\n",
       "    }\n",
       "\n",
       "    .dataframe thead th {\n",
       "        text-align: right;\n",
       "    }\n",
       "</style>\n",
       "<table border=\"1\" class=\"dataframe\">\n",
       "  <thead>\n",
       "    <tr style=\"text-align: right;\">\n",
       "      <th></th>\n",
       "      <th>user_id</th>\n",
       "      <th>gui_id</th>\n",
       "      <th>task_number</th>\n",
       "      <th>gui_number</th>\n",
       "      <th>nlr_query</th>\n",
       "      <th>feature_text</th>\n",
       "      <th>feature_question</th>\n",
       "      <th>timestamp</th>\n",
       "      <th>selected_gui_id</th>\n",
       "      <th>feature_annotation</th>\n",
       "      <th>matching_annotation</th>\n",
       "      <th>feature_annotation_original</th>\n",
       "    </tr>\n",
       "  </thead>\n",
       "  <tbody>\n",
       "    <tr>\n",
       "      <th>0</th>\n",
       "      <td>774c7102-7340-4a69-bbdf-38e926fd3c98</td>\n",
       "      <td>ea391d5c-034c-4734-bf09-cee1c1c2f733</td>\n",
       "      <td>1</td>\n",
       "      <td>1</td>\n",
       "      <td>product page</td>\n",
       "      <td>product description</td>\n",
       "      <td>Is a &lt;b&gt;'product description'&lt;/b&gt; feature in the GUI a requirement for you? This feature provides a detailed description of the product, including its features, uses, and benefits.</td>\n",
       "      <td>2023-07-24 13:29:35</td>\n",
       "      <td>\"25967\"</td>\n",
       "      <td>2</td>\n",
       "      <td>2</td>\n",
       "      <td>1</td>\n",
       "    </tr>\n",
       "    <tr>\n",
       "      <th>1</th>\n",
       "      <td>774c7102-7340-4a69-bbdf-38e926fd3c98</td>\n",
       "      <td>ea391d5c-034c-4734-bf09-cee1c1c2f733</td>\n",
       "      <td>1</td>\n",
       "      <td>1</td>\n",
       "      <td>product page</td>\n",
       "      <td>discounts</td>\n",
       "      <td>Often similar GUIs contain a &lt;b&gt;'discounts'&lt;/b&gt; feature, is it also required for your GUI? This feature displays any discounts or promotional offers available for the product.</td>\n",
       "      <td>2023-07-24 13:30:07</td>\n",
       "      <td>\"35152\"</td>\n",
       "      <td>2</td>\n",
       "      <td>0</td>\n",
       "      <td>1</td>\n",
       "    </tr>\n",
       "    <tr>\n",
       "      <th>2</th>\n",
       "      <td>774c7102-7340-4a69-bbdf-38e926fd3c98</td>\n",
       "      <td>ea391d5c-034c-4734-bf09-cee1c1c2f733</td>\n",
       "      <td>1</td>\n",
       "      <td>1</td>\n",
       "      <td>product page</td>\n",
       "      <td>seller information</td>\n",
       "      <td>Is a &lt;b&gt;'seller information'&lt;/b&gt; feature relevant for your GUI? This feature provides information about the seller, including their name, rating, and other products they sell.</td>\n",
       "      <td>2023-07-24 13:30:34</td>\n",
       "      <td>NaN</td>\n",
       "      <td>0</td>\n",
       "      <td>-1</td>\n",
       "      <td>0</td>\n",
       "    </tr>\n",
       "  </tbody>\n",
       "</table>\n",
       "</div>"
      ],
      "text/plain": [
       "                                user_id                                gui_id  task_number  gui_number     nlr_query         feature_text                                                                                                                                                                      feature_question           timestamp selected_gui_id  feature_annotation  matching_annotation  feature_annotation_original\n",
       "0  774c7102-7340-4a69-bbdf-38e926fd3c98  ea391d5c-034c-4734-bf09-cee1c1c2f733            1           1  product page  product description  Is a <b>'product description'</b> feature in the GUI a requirement for you? This feature provides a detailed description of the product, including its features, uses, and benefits. 2023-07-24 13:29:35         \"25967\"                   2                    2                            1\n",
       "1  774c7102-7340-4a69-bbdf-38e926fd3c98  ea391d5c-034c-4734-bf09-cee1c1c2f733            1           1  product page            discounts       Often similar GUIs contain a <b>'discounts'</b> feature, is it also required for your GUI? This feature displays any discounts or promotional offers available for the product. 2023-07-24 13:30:07         \"35152\"                   2                    0                            1\n",
       "2  774c7102-7340-4a69-bbdf-38e926fd3c98  ea391d5c-034c-4734-bf09-cee1c1c2f733            1           1  product page   seller information       Is a <b>'seller information'</b> feature relevant for your GUI? This feature provides information about the seller, including their name, rating, and other products they sell. 2023-07-24 13:30:34             NaN                   0                   -1                            0"
      ]
     },
     "execution_count": 10,
     "metadata": {},
     "output_type": "execute_result"
    }
   ],
   "source": [
    "feature_recommendation_relevance_annotations[:3]"
   ]
  },
  {
   "cell_type": "code",
   "execution_count": 11,
   "id": "f530ecdc",
   "metadata": {},
   "outputs": [],
   "source": [
    "df_already_specified = feature_recommendation_relevance_annotations[feature_recommendation_relevance_annotations['feature_annotation_original']==3]"
   ]
  },
  {
   "cell_type": "code",
   "execution_count": 12,
   "id": "fc8484ea",
   "metadata": {},
   "outputs": [],
   "source": [
    "df_negative_feedback = feature_recommendation_relevance_annotations[(feature_recommendation_relevance_annotations['feature_annotation_original']==0) | (feature_recommendation_relevance_annotations['feature_annotation_original']==3)]"
   ]
  },
  {
   "cell_type": "code",
   "execution_count": 13,
   "id": "644f52aa",
   "metadata": {},
   "outputs": [],
   "source": [
    "df_positive_feedback = feature_recommendation_relevance_annotations[feature_recommendation_relevance_annotations['feature_annotation_original']==1]"
   ]
  },
  {
   "cell_type": "code",
   "execution_count": 14,
   "id": "01e7aa75",
   "metadata": {},
   "outputs": [
    {
     "name": "stdout",
     "output_type": "stream",
     "text": [
      "#Recommendations: 720\n",
      "#Pos-feedback: 459\n",
      "#Neg-feedback: 261\n",
      "#Alred-spec: 68\n",
      "Accuracy: 0.6375\n",
      "Perc.alredy-neg: 0.26053639846743293\n"
     ]
    }
   ],
   "source": [
    "print('#Recommendations: {}'.format(len(feature_recommendation_relevance_annotations)))\n",
    "print('#Pos-feedback: {}'.format(len(df_positive_feedback)))\n",
    "print('#Neg-feedback: {}'.format(len(df_negative_feedback)))\n",
    "print('#Alred-spec: {}'.format(len(df_already_specified)))\n",
    "print('Accuracy: {}'.format(len(df_positive_feedback)/len(feature_recommendation_relevance_annotations)))\n",
    "print('Perc.alredy-neg: {}'.format(len(df_already_specified)/len(df_negative_feedback)))"
   ]
  },
  {
   "cell_type": "code",
   "execution_count": 15,
   "id": "f9999faa",
   "metadata": {},
   "outputs": [
    {
     "data": {
      "text/html": [
       "<div>\n",
       "<style scoped>\n",
       "    .dataframe tbody tr th:only-of-type {\n",
       "        vertical-align: middle;\n",
       "    }\n",
       "\n",
       "    .dataframe tbody tr th {\n",
       "        vertical-align: top;\n",
       "    }\n",
       "\n",
       "    .dataframe thead th {\n",
       "        text-align: right;\n",
       "    }\n",
       "</style>\n",
       "<table border=\"1\" class=\"dataframe\">\n",
       "  <thead>\n",
       "    <tr style=\"text-align: right;\">\n",
       "      <th></th>\n",
       "      <th>gui_id</th>\n",
       "      <th>feature_annotation</th>\n",
       "    </tr>\n",
       "  </thead>\n",
       "  <tbody>\n",
       "    <tr>\n",
       "      <th>0</th>\n",
       "      <td>00cbdd5f-a63b-4bb6-a3e0-c64e730e0821</td>\n",
       "      <td>[2, 0, 2, 2, 0, 2, 0, 0, 0, 2]</td>\n",
       "    </tr>\n",
       "    <tr>\n",
       "      <th>1</th>\n",
       "      <td>0b8b88e3-3a12-4f9d-b13b-1bce6fd58e35</td>\n",
       "      <td>[2, 2, 2, 2, 2, 0, 2, 2, 0, 0]</td>\n",
       "    </tr>\n",
       "    <tr>\n",
       "      <th>2</th>\n",
       "      <td>0e0fee74-9017-43f5-bcf2-6b5679c8b954</td>\n",
       "      <td>[2, 0, 2, 0, 2, 2, 0, 2, 2, 0]</td>\n",
       "    </tr>\n",
       "    <tr>\n",
       "      <th>3</th>\n",
       "      <td>10e34a88-584d-44ed-8507-25caa1a15fff</td>\n",
       "      <td>[2, 0, 2, 2, 0, 2, 2, 0, 2, 0]</td>\n",
       "    </tr>\n",
       "    <tr>\n",
       "      <th>4</th>\n",
       "      <td>117a851a-d372-4345-93d1-173083e5c263</td>\n",
       "      <td>[2, 2, 0, 0, 2, 2, 2, 0, 2, 2]</td>\n",
       "    </tr>\n",
       "    <tr>\n",
       "      <th>5</th>\n",
       "      <td>134ed8aa-026e-4177-9c3c-77b122a0082b</td>\n",
       "      <td>[2, 2, 0, 2, 0, 2, 2, 2, 2, 0]</td>\n",
       "    </tr>\n",
       "    <tr>\n",
       "      <th>6</th>\n",
       "      <td>1385d42b-2190-4d14-8903-a64d4c2c3a39</td>\n",
       "      <td>[0, 0, 2, 0, 0, 0, 0, 0, 2, 0]</td>\n",
       "    </tr>\n",
       "    <tr>\n",
       "      <th>7</th>\n",
       "      <td>1581d817-53e0-4015-ba02-5b16f47f1d2d</td>\n",
       "      <td>[2, 0, 2, 2, 0, 0, 2, 2, 2, 2]</td>\n",
       "    </tr>\n",
       "    <tr>\n",
       "      <th>8</th>\n",
       "      <td>15a0e403-e906-4a77-8c53-9655eedbe25c</td>\n",
       "      <td>[0, 2, 2, 0, 0, 0, 0, 0, 0, 0]</td>\n",
       "    </tr>\n",
       "    <tr>\n",
       "      <th>9</th>\n",
       "      <td>16120257-80e3-4e78-9f2c-af3d71dd5fea</td>\n",
       "      <td>[0, 2, 2, 2, 2, 0, 2, 2, 0, 0]</td>\n",
       "    </tr>\n",
       "  </tbody>\n",
       "</table>\n",
       "</div>"
      ],
      "text/plain": [
       "                                 gui_id              feature_annotation\n",
       "0  00cbdd5f-a63b-4bb6-a3e0-c64e730e0821  [2, 0, 2, 2, 0, 2, 0, 0, 0, 2]\n",
       "1  0b8b88e3-3a12-4f9d-b13b-1bce6fd58e35  [2, 2, 2, 2, 2, 0, 2, 2, 0, 0]\n",
       "2  0e0fee74-9017-43f5-bcf2-6b5679c8b954  [2, 0, 2, 0, 2, 2, 0, 2, 2, 0]\n",
       "3  10e34a88-584d-44ed-8507-25caa1a15fff  [2, 0, 2, 2, 0, 2, 2, 0, 2, 0]\n",
       "4  117a851a-d372-4345-93d1-173083e5c263  [2, 2, 0, 0, 2, 2, 2, 0, 2, 2]\n",
       "5  134ed8aa-026e-4177-9c3c-77b122a0082b  [2, 2, 0, 2, 0, 2, 2, 2, 2, 0]\n",
       "6  1385d42b-2190-4d14-8903-a64d4c2c3a39  [0, 0, 2, 0, 0, 0, 0, 0, 2, 0]\n",
       "7  1581d817-53e0-4015-ba02-5b16f47f1d2d  [2, 0, 2, 2, 0, 0, 2, 2, 2, 2]\n",
       "8  15a0e403-e906-4a77-8c53-9655eedbe25c  [0, 2, 2, 0, 0, 0, 0, 0, 0, 0]\n",
       "9  16120257-80e3-4e78-9f2c-af3d71dd5fea  [0, 2, 2, 2, 2, 0, 2, 2, 0, 0]"
      ]
     },
     "execution_count": 15,
     "metadata": {},
     "output_type": "execute_result"
    }
   ],
   "source": [
    "grouped_df = feature_recommendation_relevance_annotations.groupby(['gui_id']).agg({'feature_annotation': list})\n",
    "grouped_df = grouped_df.reset_index()\n",
    "grouped_df[:10]"
   ]
  },
  {
   "cell_type": "code",
   "execution_count": 16,
   "id": "3bc44a7f",
   "metadata": {},
   "outputs": [],
   "source": [
    "data_dict = {}\n",
    "for index, row in feature_recommendation_relevance_annotations.iterrows():\n",
    "    gui_id = row['gui_id']\n",
    "    task_number = row['task_number']\n",
    "    gui_number = row['gui_number']\n",
    "    data_dict[gui_id] = (task_number, gui_number)"
   ]
  },
  {
   "cell_type": "code",
   "execution_count": 17,
   "id": "641442c2",
   "metadata": {},
   "outputs": [
    {
     "data": {
      "text/html": [
       "<div>\n",
       "<style scoped>\n",
       "    .dataframe tbody tr th:only-of-type {\n",
       "        vertical-align: middle;\n",
       "    }\n",
       "\n",
       "    .dataframe tbody tr th {\n",
       "        vertical-align: top;\n",
       "    }\n",
       "\n",
       "    .dataframe thead th {\n",
       "        text-align: right;\n",
       "    }\n",
       "</style>\n",
       "<table border=\"1\" class=\"dataframe\">\n",
       "  <thead>\n",
       "    <tr style=\"text-align: right;\">\n",
       "      <th></th>\n",
       "      <th>gui_id</th>\n",
       "      <th>task_number</th>\n",
       "      <th>gui_number</th>\n",
       "    </tr>\n",
       "  </thead>\n",
       "  <tbody>\n",
       "    <tr>\n",
       "      <th>0</th>\n",
       "      <td>ea391d5c-034c-4734-bf09-cee1c1c2f733</td>\n",
       "      <td>1</td>\n",
       "      <td>1</td>\n",
       "    </tr>\n",
       "    <tr>\n",
       "      <th>1</th>\n",
       "      <td>117a851a-d372-4345-93d1-173083e5c263</td>\n",
       "      <td>1</td>\n",
       "      <td>2</td>\n",
       "    </tr>\n",
       "    <tr>\n",
       "      <th>2</th>\n",
       "      <td>1eacb360-90eb-4276-a4e0-28330d020e73</td>\n",
       "      <td>1</td>\n",
       "      <td>3</td>\n",
       "    </tr>\n",
       "    <tr>\n",
       "      <th>3</th>\n",
       "      <td>bdaf422d-d721-44e4-8c80-eb404426171a</td>\n",
       "      <td>3</td>\n",
       "      <td>1</td>\n",
       "    </tr>\n",
       "    <tr>\n",
       "      <th>4</th>\n",
       "      <td>828e5bc1-dbf9-47a1-a7c0-919f7eaf95ae</td>\n",
       "      <td>3</td>\n",
       "      <td>2</td>\n",
       "    </tr>\n",
       "    <tr>\n",
       "      <th>5</th>\n",
       "      <td>6031ec72-b73c-4399-a614-a875b6d04dff</td>\n",
       "      <td>3</td>\n",
       "      <td>3</td>\n",
       "    </tr>\n",
       "    <tr>\n",
       "      <th>6</th>\n",
       "      <td>5c63126c-d909-4531-8672-2cd06d743964</td>\n",
       "      <td>2</td>\n",
       "      <td>1</td>\n",
       "    </tr>\n",
       "    <tr>\n",
       "      <th>7</th>\n",
       "      <td>eb476d80-e1c7-467b-82fb-98457aa69174</td>\n",
       "      <td>2</td>\n",
       "      <td>2</td>\n",
       "    </tr>\n",
       "    <tr>\n",
       "      <th>8</th>\n",
       "      <td>16120257-80e3-4e78-9f2c-af3d71dd5fea</td>\n",
       "      <td>2</td>\n",
       "      <td>3</td>\n",
       "    </tr>\n",
       "    <tr>\n",
       "      <th>9</th>\n",
       "      <td>c07d1739-d20f-4e07-a719-61f8f12b5603</td>\n",
       "      <td>3</td>\n",
       "      <td>1</td>\n",
       "    </tr>\n",
       "  </tbody>\n",
       "</table>\n",
       "</div>"
      ],
      "text/plain": [
       "                                 gui_id  task_number  gui_number\n",
       "0  ea391d5c-034c-4734-bf09-cee1c1c2f733            1           1\n",
       "1  117a851a-d372-4345-93d1-173083e5c263            1           2\n",
       "2  1eacb360-90eb-4276-a4e0-28330d020e73            1           3\n",
       "3  bdaf422d-d721-44e4-8c80-eb404426171a            3           1\n",
       "4  828e5bc1-dbf9-47a1-a7c0-919f7eaf95ae            3           2\n",
       "5  6031ec72-b73c-4399-a614-a875b6d04dff            3           3\n",
       "6  5c63126c-d909-4531-8672-2cd06d743964            2           1\n",
       "7  eb476d80-e1c7-467b-82fb-98457aa69174            2           2\n",
       "8  16120257-80e3-4e78-9f2c-af3d71dd5fea            2           3\n",
       "9  c07d1739-d20f-4e07-a719-61f8f12b5603            3           1"
      ]
     },
     "execution_count": 17,
     "metadata": {},
     "output_type": "execute_result"
    }
   ],
   "source": [
    "feature_recommendations_per_gui_task = pd.DataFrame.from_dict(data_dict, orient='index', columns=['task_number', 'gui_number'])\n",
    "feature_recommendations_per_gui_task = feature_recommendations_per_gui_task.reset_index()\n",
    "feature_recommendations_per_gui_task = feature_recommendations_per_gui_task.rename(columns={'index': 'gui_id'})\n",
    "feature_recommendations_per_gui_task[:10]"
   ]
  },
  {
   "cell_type": "code",
   "execution_count": 18,
   "id": "46ece310",
   "metadata": {},
   "outputs": [
    {
     "data": {
      "text/html": [
       "<div>\n",
       "<style scoped>\n",
       "    .dataframe tbody tr th:only-of-type {\n",
       "        vertical-align: middle;\n",
       "    }\n",
       "\n",
       "    .dataframe tbody tr th {\n",
       "        vertical-align: top;\n",
       "    }\n",
       "\n",
       "    .dataframe thead th {\n",
       "        text-align: right;\n",
       "    }\n",
       "</style>\n",
       "<table border=\"1\" class=\"dataframe\">\n",
       "  <thead>\n",
       "    <tr style=\"text-align: right;\">\n",
       "      <th></th>\n",
       "      <th>gui_id</th>\n",
       "      <th>task_number</th>\n",
       "      <th>gui_number</th>\n",
       "      <th>feature_annotation</th>\n",
       "    </tr>\n",
       "  </thead>\n",
       "  <tbody>\n",
       "    <tr>\n",
       "      <th>0</th>\n",
       "      <td>ea391d5c-034c-4734-bf09-cee1c1c2f733</td>\n",
       "      <td>1</td>\n",
       "      <td>1</td>\n",
       "      <td>[2, 2, 0, 2, 2, 2, 2, 0, 0, 2]</td>\n",
       "    </tr>\n",
       "    <tr>\n",
       "      <th>1</th>\n",
       "      <td>117a851a-d372-4345-93d1-173083e5c263</td>\n",
       "      <td>1</td>\n",
       "      <td>2</td>\n",
       "      <td>[2, 2, 0, 0, 2, 2, 2, 0, 2, 2]</td>\n",
       "    </tr>\n",
       "    <tr>\n",
       "      <th>2</th>\n",
       "      <td>1eacb360-90eb-4276-a4e0-28330d020e73</td>\n",
       "      <td>1</td>\n",
       "      <td>3</td>\n",
       "      <td>[2, 2, 2, 2, 0, 0, 2, 2, 2, 0]</td>\n",
       "    </tr>\n",
       "    <tr>\n",
       "      <th>3</th>\n",
       "      <td>bdaf422d-d721-44e4-8c80-eb404426171a</td>\n",
       "      <td>3</td>\n",
       "      <td>1</td>\n",
       "      <td>[2, 0, 0, 2, 0, 2, 2, 2, 2, 2]</td>\n",
       "    </tr>\n",
       "    <tr>\n",
       "      <th>4</th>\n",
       "      <td>828e5bc1-dbf9-47a1-a7c0-919f7eaf95ae</td>\n",
       "      <td>3</td>\n",
       "      <td>2</td>\n",
       "      <td>[0, 2, 2, 2, 2, 0, 2, 2, 0, 2]</td>\n",
       "    </tr>\n",
       "    <tr>\n",
       "      <th>5</th>\n",
       "      <td>6031ec72-b73c-4399-a614-a875b6d04dff</td>\n",
       "      <td>3</td>\n",
       "      <td>3</td>\n",
       "      <td>[2, 2, 2, 0, 2, 0, 0, 2, 0, 0]</td>\n",
       "    </tr>\n",
       "    <tr>\n",
       "      <th>6</th>\n",
       "      <td>5c63126c-d909-4531-8672-2cd06d743964</td>\n",
       "      <td>2</td>\n",
       "      <td>1</td>\n",
       "      <td>[2, 2, 0, 2, 2, 0, 2, 2, 2, 0]</td>\n",
       "    </tr>\n",
       "    <tr>\n",
       "      <th>7</th>\n",
       "      <td>eb476d80-e1c7-467b-82fb-98457aa69174</td>\n",
       "      <td>2</td>\n",
       "      <td>2</td>\n",
       "      <td>[2, 2, 2, 2, 2, 2, 2, 0, 2, 2]</td>\n",
       "    </tr>\n",
       "    <tr>\n",
       "      <th>8</th>\n",
       "      <td>16120257-80e3-4e78-9f2c-af3d71dd5fea</td>\n",
       "      <td>2</td>\n",
       "      <td>3</td>\n",
       "      <td>[0, 2, 2, 2, 2, 0, 2, 2, 0, 0]</td>\n",
       "    </tr>\n",
       "    <tr>\n",
       "      <th>9</th>\n",
       "      <td>c07d1739-d20f-4e07-a719-61f8f12b5603</td>\n",
       "      <td>3</td>\n",
       "      <td>1</td>\n",
       "      <td>[0, 2, 2, 0, 2, 2, 0, 2, 2, 2]</td>\n",
       "    </tr>\n",
       "  </tbody>\n",
       "</table>\n",
       "</div>"
      ],
      "text/plain": [
       "                                 gui_id  task_number  gui_number              feature_annotation\n",
       "0  ea391d5c-034c-4734-bf09-cee1c1c2f733            1           1  [2, 2, 0, 2, 2, 2, 2, 0, 0, 2]\n",
       "1  117a851a-d372-4345-93d1-173083e5c263            1           2  [2, 2, 0, 0, 2, 2, 2, 0, 2, 2]\n",
       "2  1eacb360-90eb-4276-a4e0-28330d020e73            1           3  [2, 2, 2, 2, 0, 0, 2, 2, 2, 0]\n",
       "3  bdaf422d-d721-44e4-8c80-eb404426171a            3           1  [2, 0, 0, 2, 0, 2, 2, 2, 2, 2]\n",
       "4  828e5bc1-dbf9-47a1-a7c0-919f7eaf95ae            3           2  [0, 2, 2, 2, 2, 0, 2, 2, 0, 2]\n",
       "5  6031ec72-b73c-4399-a614-a875b6d04dff            3           3  [2, 2, 2, 0, 2, 0, 0, 2, 0, 0]\n",
       "6  5c63126c-d909-4531-8672-2cd06d743964            2           1  [2, 2, 0, 2, 2, 0, 2, 2, 2, 0]\n",
       "7  eb476d80-e1c7-467b-82fb-98457aa69174            2           2  [2, 2, 2, 2, 2, 2, 2, 0, 2, 2]\n",
       "8  16120257-80e3-4e78-9f2c-af3d71dd5fea            2           3  [0, 2, 2, 2, 2, 0, 2, 2, 0, 0]\n",
       "9  c07d1739-d20f-4e07-a719-61f8f12b5603            3           1  [0, 2, 2, 0, 2, 2, 0, 2, 2, 2]"
      ]
     },
     "execution_count": 18,
     "metadata": {},
     "output_type": "execute_result"
    }
   ],
   "source": [
    "merged_df = pd.merge(feature_recommendations_per_gui_task, grouped_df, on='gui_id', how='inner')\n",
    "merged_df[:10]"
   ]
  },
  {
   "cell_type": "code",
   "execution_count": 19,
   "id": "87c855ac",
   "metadata": {},
   "outputs": [],
   "source": [
    "grouped_df = merged_df.groupby(['task_number', 'gui_number']).agg({'feature_annotation': list}).reset_index()"
   ]
  },
  {
   "cell_type": "code",
   "execution_count": 20,
   "id": "651d20da",
   "metadata": {},
   "outputs": [],
   "source": [
    "grouped_df['task'] = grouped_df['task_number'].astype(str) + '-' + grouped_df['gui_number'].astype(str)\n",
    "grouped_df = grouped_df.drop(['task_number', 'gui_number'], axis=1)"
   ]
  },
  {
   "cell_type": "code",
   "execution_count": 21,
   "id": "ebefb22f",
   "metadata": {},
   "outputs": [
    {
     "data": {
      "text/html": [
       "<div>\n",
       "<style scoped>\n",
       "    .dataframe tbody tr th:only-of-type {\n",
       "        vertical-align: middle;\n",
       "    }\n",
       "\n",
       "    .dataframe tbody tr th {\n",
       "        vertical-align: top;\n",
       "    }\n",
       "\n",
       "    .dataframe thead th {\n",
       "        text-align: right;\n",
       "    }\n",
       "</style>\n",
       "<table border=\"1\" class=\"dataframe\">\n",
       "  <thead>\n",
       "    <tr style=\"text-align: right;\">\n",
       "      <th></th>\n",
       "      <th>feature_annotation</th>\n",
       "      <th>task</th>\n",
       "    </tr>\n",
       "  </thead>\n",
       "  <tbody>\n",
       "    <tr>\n",
       "      <th>0</th>\n",
       "      <td>[[2, 2, 0, 2, 2, 2, 2, 0, 0, 2], [0, 0, 2, 2, 2, 0, 2, 0, 2, 0], [2, 2, 2, 0, 2, 0, 0, 0, 0, 0], [2, 0, 0, 2, 2, 2, 2, 0, 0, 0], [2, 0, 2, 2, 0, 2, 2, 0, 2, 0], [2, 0, 2, 2, 0, 2, 0, 0, 0, 2], [2, 2, 0, 2, 2, 2, 2, 2, 0, 0], [2, 2, 0, 2, 0, 0, 2, 2, 2, 0]]</td>\n",
       "      <td>1-1</td>\n",
       "    </tr>\n",
       "    <tr>\n",
       "      <th>1</th>\n",
       "      <td>[[2, 2, 0, 0, 2, 2, 2, 0, 2, 2], [2, 2, 2, 0, 0, 2, 0, 2, 2, 0], [2, 2, 2, 2, 0, 2, 0, 0, 2, 2], [2, 0, 2, 2, 2, 0, 2, 2, 2, 2], [2, 2, 2, 2, 0, 2, 2, 0, 2, 2], [2, 0, 2, 0, 2, 2, 2, 2, 0, 2], [2, 2, 0, 2, 2, 0, 0, 2, 2, 2], [2, 2, 2, 0, 2, 2, 2, 2, 2, 0]]</td>\n",
       "      <td>1-2</td>\n",
       "    </tr>\n",
       "    <tr>\n",
       "      <th>2</th>\n",
       "      <td>[[2, 2, 2, 2, 0, 0, 2, 2, 2, 0], [2, 2, 2, 0, 2, 2, 0, 2, 0, 2], [0, 2, 2, 0, 0, 0, 0, 0, 0, 0], [2, 2, 0, 2, 2, 2, 0, 0, 2, 0], [2, 0, 2, 2, 0, 0, 2, 2, 2, 2], [2, 2, 2, 2, 2, 0, 2, 0, 2, 0], [2, 0, 2, 0, 2, 0, 2, 2, 2, 0], [2, 2, 2, 2, 0, 0, 2, 0, 2, 0]]</td>\n",
       "      <td>1-3</td>\n",
       "    </tr>\n",
       "    <tr>\n",
       "      <th>3</th>\n",
       "      <td>[[2, 2, 0, 2, 2, 0, 2, 2, 2, 0], [2, 2, 2, 2, 0, 2, 2, 2, 2, 2], [0, 2, 0, 2, 2, 2, 2, 2, 2, 2], [2, 2, 0, 2, 0, 2, 2, 2, 2, 0], [2, 0, 2, 2, 2, 2, 2, 2, 2, 2], [2, 0, 2, 2, 0, 2, 0, 2, 0, 2], [0, 2, 2, 2, 2, 2, 2, 0, 2, 0], [2, 2, 2, 2, 2, 2, 0, 2, 2, 2]]</td>\n",
       "      <td>2-1</td>\n",
       "    </tr>\n",
       "    <tr>\n",
       "      <th>4</th>\n",
       "      <td>[[2, 2, 2, 2, 2, 2, 2, 0, 2, 2], [2, 2, 2, 2, 2, 0, 0, 0, 2, 2], [2, 0, 2, 0, 2, 2, 0, 2, 2, 0], [0, 2, 0, 2, 2, 0, 2, 2, 2, 2], [2, 2, 2, 2, 2, 2, 2, 2, 0, 2], [2, 0, 2, 2, 2, 2, 2, 2, 2, 0], [0, 0, 2, 2, 2, 2, 0, 0, 0, 0], [0, 2, 0, 2, 2, 2, 0, 0, 2, 2]]</td>\n",
       "      <td>2-2</td>\n",
       "    </tr>\n",
       "    <tr>\n",
       "      <th>5</th>\n",
       "      <td>[[0, 2, 2, 2, 2, 0, 2, 2, 0, 0], [2, 2, 2, 2, 2, 0, 0, 2, 2, 0], [2, 2, 2, 2, 0, 0, 2, 0, 0, 2], [2, 2, 2, 2, 2, 0, 0, 2, 2, 2], [0, 2, 2, 2, 2, 2, 2, 2, 2, 2], [0, 2, 2, 0, 0, 0, 2, 2, 2, 2], [0, 0, 0, 0, 2, 0, 0, 2, 2, 0], [0, 0, 2, 2, 2, 2, 2, 0, 0, 2]]</td>\n",
       "      <td>2-3</td>\n",
       "    </tr>\n",
       "    <tr>\n",
       "      <th>6</th>\n",
       "      <td>[[2, 0, 0, 2, 0, 2, 2, 2, 2, 2], [0, 2, 2, 0, 2, 2, 0, 2, 2, 2], [2, 0, 2, 0, 2, 2, 0, 2, 2, 0], [0, 0, 2, 0, 0, 0, 2, 2, 0, 0], [2, 2, 2, 2, 2, 0, 2, 2, 0, 0], [2, 2, 2, 2, 2, 2, 0, 2, 0, 2], [0, 2, 2, 0, 2, 2, 0, 2, 2, 0], [2, 2, 2, 0, 2, 0, 0, 2, 0, 2]]</td>\n",
       "      <td>3-1</td>\n",
       "    </tr>\n",
       "    <tr>\n",
       "      <th>7</th>\n",
       "      <td>[[0, 2, 2, 2, 2, 0, 2, 2, 0, 2], [0, 0, 2, 2, 0, 2, 0, 2, 0, 0], [2, 0, 2, 2, 2, 2, 0, 2, 0, 2], [0, 0, 0, 0, 0, 0, 0, 0, 0, 2], [2, 2, 2, 0, 2, 2, 0, 2, 2, 2], [2, 2, 2, 2, 0, 2, 2, 2, 2, 2], [0, 0, 2, 0, 0, 0, 0, 0, 2, 0], [2, 0, 2, 0, 2, 0, 2, 0, 2, 0]]</td>\n",
       "      <td>3-2</td>\n",
       "    </tr>\n",
       "    <tr>\n",
       "      <th>8</th>\n",
       "      <td>[[2, 2, 2, 0, 2, 0, 0, 2, 0, 0], [0, 2, 2, 2, 2, 2, 2, 2, 2, 2], [2, 2, 2, 2, 0, 2, 0, 2, 0, 0], [2, 0, 0, 0, 0, 0, 0, 0, 2, 2], [2, 2, 0, 2, 2, 2, 0, 0, 0, 2], [2, 2, 2, 2, 2, 2, 2, 2, 2, 2], [0, 0, 0, 2, 0, 0, 2, 0, 2, 2], [0, 0, 0, 0, 2, 2, 0, 0, 0, 2]]</td>\n",
       "      <td>3-3</td>\n",
       "    </tr>\n",
       "  </tbody>\n",
       "</table>\n",
       "</div>"
      ],
      "text/plain": [
       "                                                                                                                                                                                                                                                 feature_annotation task\n",
       "0  [[2, 2, 0, 2, 2, 2, 2, 0, 0, 2], [0, 0, 2, 2, 2, 0, 2, 0, 2, 0], [2, 2, 2, 0, 2, 0, 0, 0, 0, 0], [2, 0, 0, 2, 2, 2, 2, 0, 0, 0], [2, 0, 2, 2, 0, 2, 2, 0, 2, 0], [2, 0, 2, 2, 0, 2, 0, 0, 0, 2], [2, 2, 0, 2, 2, 2, 2, 2, 0, 0], [2, 2, 0, 2, 0, 0, 2, 2, 2, 0]]  1-1\n",
       "1  [[2, 2, 0, 0, 2, 2, 2, 0, 2, 2], [2, 2, 2, 0, 0, 2, 0, 2, 2, 0], [2, 2, 2, 2, 0, 2, 0, 0, 2, 2], [2, 0, 2, 2, 2, 0, 2, 2, 2, 2], [2, 2, 2, 2, 0, 2, 2, 0, 2, 2], [2, 0, 2, 0, 2, 2, 2, 2, 0, 2], [2, 2, 0, 2, 2, 0, 0, 2, 2, 2], [2, 2, 2, 0, 2, 2, 2, 2, 2, 0]]  1-2\n",
       "2  [[2, 2, 2, 2, 0, 0, 2, 2, 2, 0], [2, 2, 2, 0, 2, 2, 0, 2, 0, 2], [0, 2, 2, 0, 0, 0, 0, 0, 0, 0], [2, 2, 0, 2, 2, 2, 0, 0, 2, 0], [2, 0, 2, 2, 0, 0, 2, 2, 2, 2], [2, 2, 2, 2, 2, 0, 2, 0, 2, 0], [2, 0, 2, 0, 2, 0, 2, 2, 2, 0], [2, 2, 2, 2, 0, 0, 2, 0, 2, 0]]  1-3\n",
       "3  [[2, 2, 0, 2, 2, 0, 2, 2, 2, 0], [2, 2, 2, 2, 0, 2, 2, 2, 2, 2], [0, 2, 0, 2, 2, 2, 2, 2, 2, 2], [2, 2, 0, 2, 0, 2, 2, 2, 2, 0], [2, 0, 2, 2, 2, 2, 2, 2, 2, 2], [2, 0, 2, 2, 0, 2, 0, 2, 0, 2], [0, 2, 2, 2, 2, 2, 2, 0, 2, 0], [2, 2, 2, 2, 2, 2, 0, 2, 2, 2]]  2-1\n",
       "4  [[2, 2, 2, 2, 2, 2, 2, 0, 2, 2], [2, 2, 2, 2, 2, 0, 0, 0, 2, 2], [2, 0, 2, 0, 2, 2, 0, 2, 2, 0], [0, 2, 0, 2, 2, 0, 2, 2, 2, 2], [2, 2, 2, 2, 2, 2, 2, 2, 0, 2], [2, 0, 2, 2, 2, 2, 2, 2, 2, 0], [0, 0, 2, 2, 2, 2, 0, 0, 0, 0], [0, 2, 0, 2, 2, 2, 0, 0, 2, 2]]  2-2\n",
       "5  [[0, 2, 2, 2, 2, 0, 2, 2, 0, 0], [2, 2, 2, 2, 2, 0, 0, 2, 2, 0], [2, 2, 2, 2, 0, 0, 2, 0, 0, 2], [2, 2, 2, 2, 2, 0, 0, 2, 2, 2], [0, 2, 2, 2, 2, 2, 2, 2, 2, 2], [0, 2, 2, 0, 0, 0, 2, 2, 2, 2], [0, 0, 0, 0, 2, 0, 0, 2, 2, 0], [0, 0, 2, 2, 2, 2, 2, 0, 0, 2]]  2-3\n",
       "6  [[2, 0, 0, 2, 0, 2, 2, 2, 2, 2], [0, 2, 2, 0, 2, 2, 0, 2, 2, 2], [2, 0, 2, 0, 2, 2, 0, 2, 2, 0], [0, 0, 2, 0, 0, 0, 2, 2, 0, 0], [2, 2, 2, 2, 2, 0, 2, 2, 0, 0], [2, 2, 2, 2, 2, 2, 0, 2, 0, 2], [0, 2, 2, 0, 2, 2, 0, 2, 2, 0], [2, 2, 2, 0, 2, 0, 0, 2, 0, 2]]  3-1\n",
       "7  [[0, 2, 2, 2, 2, 0, 2, 2, 0, 2], [0, 0, 2, 2, 0, 2, 0, 2, 0, 0], [2, 0, 2, 2, 2, 2, 0, 2, 0, 2], [0, 0, 0, 0, 0, 0, 0, 0, 0, 2], [2, 2, 2, 0, 2, 2, 0, 2, 2, 2], [2, 2, 2, 2, 0, 2, 2, 2, 2, 2], [0, 0, 2, 0, 0, 0, 0, 0, 2, 0], [2, 0, 2, 0, 2, 0, 2, 0, 2, 0]]  3-2\n",
       "8  [[2, 2, 2, 0, 2, 0, 0, 2, 0, 0], [0, 2, 2, 2, 2, 2, 2, 2, 2, 2], [2, 2, 2, 2, 0, 2, 0, 2, 0, 0], [2, 0, 0, 0, 0, 0, 0, 0, 2, 2], [2, 2, 0, 2, 2, 2, 0, 0, 0, 2], [2, 2, 2, 2, 2, 2, 2, 2, 2, 2], [0, 0, 0, 2, 0, 0, 2, 0, 2, 2], [0, 0, 0, 0, 2, 2, 0, 0, 0, 2]]  3-3"
      ]
     },
     "execution_count": 21,
     "metadata": {},
     "output_type": "execute_result"
    }
   ],
   "source": [
    "grouped_df"
   ]
  },
  {
   "cell_type": "code",
   "execution_count": 22,
   "id": "e6352a56",
   "metadata": {},
   "outputs": [],
   "source": [
    "task_dict = grouped_df.set_index('task')['feature_annotation'].to_dict()"
   ]
  },
  {
   "cell_type": "code",
   "execution_count": 23,
   "id": "79f45179",
   "metadata": {},
   "outputs": [],
   "source": [
    "relevances = grouped_df['feature_annotation'].values.tolist()"
   ]
  },
  {
   "cell_type": "code",
   "execution_count": 24,
   "id": "e04cef0f",
   "metadata": {},
   "outputs": [],
   "source": [
    "relevances = [rels for elem in relevances for rels in elem]"
   ]
  },
  {
   "cell_type": "code",
   "execution_count": 25,
   "id": "aafcfffb",
   "metadata": {},
   "outputs": [],
   "source": [
    "metrics_feature_recommendation = [metricAveP, metricRecipRank, metricPAt1, metricPAt2, metricPAt3, metricPAt5, metricPAt7,metricPAt10]"
   ]
  },
  {
   "cell_type": "code",
   "execution_count": 26,
   "id": "2ea50a00",
   "metadata": {},
   "outputs": [
    {
     "name": "stdout",
     "output_type": "stream",
     "text": [
      "group    AveP    RecipRank    P@1    P@2    P@3    P@5    P@7    P@10\n",
      "-------  ------  -----------  -----  -----  -----  -----  -----  ------\n",
      "1-1      |.764   |.917        |.875  |.688  |.625  |.675  |.679  |.562\n",
      "1-2      |.824   |1.0         |1.0   |.875  |.833  |.725  |.714  |.725\n",
      "1-3      |.804   |.938        |.875  |.812  |.833  |.725  |.643  |.6\n",
      "2-1      |.811   |.875        |.75   |.75   |.708  |.75   |.768  |.775\n",
      "2-2      |.763   |.792        |.625  |.625  |.667  |.775  |.732  |.7\n",
      "2-3      |.699   |.629        |.375  |.562  |.667  |.7    |.625  |.638\n",
      "3-1      |.712   |.792        |.625  |.625  |.708  |.65   |.607  |.625\n",
      "3-2      |.6     |.658        |.5    |.438  |.583  |.55   |.518  |.538\n",
      "3-3      |.692   |.744        |.625  |.625  |.583  |.6    |.571  |.575\n"
     ]
    }
   ],
   "source": [
    "print_table_report_dict(task_dict, metrics_feature_recommendation)"
   ]
  },
  {
   "cell_type": "code",
   "execution_count": 27,
   "id": "98f7f856",
   "metadata": {},
   "outputs": [
    {
     "name": "stdout",
     "output_type": "stream",
     "text": [
      "group    AveP    RecipRank    P@1    P@2    P@3    P@5    P@7    P@10\n",
      "-------  ------  -----------  -----  -----  -----  -----  -----  ------\n",
      "Avg.     |.741   |.816        |.694  |.667  |.69   |.683  |.651  |.638\n"
     ]
    }
   ],
   "source": [
    "print_table_report_simpl(relevances, metrics_feature_recommendation, 'Avg.')"
   ]
  },
  {
   "cell_type": "markdown",
   "id": "2f0a20df",
   "metadata": {},
   "source": [
    "# 2. GUI Feature Ranking Relevance"
   ]
  },
  {
   "cell_type": "markdown",
   "id": "d779d036",
   "metadata": {},
   "source": [
    "## 2.1 Matching Recommended Features Relevance"
   ]
  },
  {
   "cell_type": "code",
   "execution_count": 28,
   "id": "7b96fb9d",
   "metadata": {},
   "outputs": [],
   "source": [
    "TOP_K = 15"
   ]
  },
  {
   "cell_type": "code",
   "execution_count": 29,
   "id": "db300b57",
   "metadata": {},
   "outputs": [],
   "source": [
    "feature_recommendation_relevance_annotations['relevances'] = feature_recommendation_relevance_annotations.apply(lambda row: [2 if elem==int(row['matching_annotation']) else 0 for elem in range(0,TOP_K)] , axis=1)"
   ]
  },
  {
   "cell_type": "code",
   "execution_count": 30,
   "id": "31a52daa",
   "metadata": {},
   "outputs": [],
   "source": [
    "filtered_df = feature_recommendation_relevance_annotations[feature_recommendation_relevance_annotations['feature_annotation'] != 0]"
   ]
  },
  {
   "cell_type": "code",
   "execution_count": 31,
   "id": "a134b2f5",
   "metadata": {},
   "outputs": [
    {
     "data": {
      "text/html": [
       "<div>\n",
       "<style scoped>\n",
       "    .dataframe tbody tr th:only-of-type {\n",
       "        vertical-align: middle;\n",
       "    }\n",
       "\n",
       "    .dataframe tbody tr th {\n",
       "        vertical-align: top;\n",
       "    }\n",
       "\n",
       "    .dataframe thead th {\n",
       "        text-align: right;\n",
       "    }\n",
       "</style>\n",
       "<table border=\"1\" class=\"dataframe\">\n",
       "  <thead>\n",
       "    <tr style=\"text-align: right;\">\n",
       "      <th></th>\n",
       "      <th>user_id</th>\n",
       "      <th>gui_id</th>\n",
       "      <th>task_number</th>\n",
       "      <th>gui_number</th>\n",
       "      <th>nlr_query</th>\n",
       "      <th>feature_text</th>\n",
       "      <th>feature_question</th>\n",
       "      <th>timestamp</th>\n",
       "      <th>selected_gui_id</th>\n",
       "      <th>feature_annotation</th>\n",
       "      <th>matching_annotation</th>\n",
       "      <th>feature_annotation_original</th>\n",
       "      <th>relevances</th>\n",
       "    </tr>\n",
       "  </thead>\n",
       "  <tbody>\n",
       "    <tr>\n",
       "      <th>0</th>\n",
       "      <td>774c7102-7340-4a69-bbdf-38e926fd3c98</td>\n",
       "      <td>ea391d5c-034c-4734-bf09-cee1c1c2f733</td>\n",
       "      <td>1</td>\n",
       "      <td>1</td>\n",
       "      <td>product page</td>\n",
       "      <td>product description</td>\n",
       "      <td>Is a &lt;b&gt;'product description'&lt;/b&gt; feature in the GUI a requirement for you? This feature provides a detailed description of the product, including its features, uses, and benefits.</td>\n",
       "      <td>2023-07-24 13:29:35</td>\n",
       "      <td>\"25967\"</td>\n",
       "      <td>2</td>\n",
       "      <td>2</td>\n",
       "      <td>1</td>\n",
       "      <td>[0, 0, 2, 0, 0, 0, 0, 0, 0, 0, 0, 0, 0, 0, 0]</td>\n",
       "    </tr>\n",
       "    <tr>\n",
       "      <th>1</th>\n",
       "      <td>774c7102-7340-4a69-bbdf-38e926fd3c98</td>\n",
       "      <td>ea391d5c-034c-4734-bf09-cee1c1c2f733</td>\n",
       "      <td>1</td>\n",
       "      <td>1</td>\n",
       "      <td>product page</td>\n",
       "      <td>discounts</td>\n",
       "      <td>Often similar GUIs contain a &lt;b&gt;'discounts'&lt;/b&gt; feature, is it also required for your GUI? This feature displays any discounts or promotional offers available for the product.</td>\n",
       "      <td>2023-07-24 13:30:07</td>\n",
       "      <td>\"35152\"</td>\n",
       "      <td>2</td>\n",
       "      <td>0</td>\n",
       "      <td>1</td>\n",
       "      <td>[2, 0, 0, 0, 0, 0, 0, 0, 0, 0, 0, 0, 0, 0, 0]</td>\n",
       "    </tr>\n",
       "    <tr>\n",
       "      <th>3</th>\n",
       "      <td>774c7102-7340-4a69-bbdf-38e926fd3c98</td>\n",
       "      <td>ea391d5c-034c-4734-bf09-cee1c1c2f733</td>\n",
       "      <td>1</td>\n",
       "      <td>1</td>\n",
       "      <td>product page</td>\n",
       "      <td>product specifications</td>\n",
       "      <td>A &lt;b&gt;'product specifications'&lt;/b&gt; feature is often used in similar GUIs, do you need it as well? This feature lists the technical details and specifications of the product, such as dimensions, weight, materials, etc.</td>\n",
       "      <td>2023-07-24 13:31:12</td>\n",
       "      <td>\"5128\"</td>\n",
       "      <td>2</td>\n",
       "      <td>11</td>\n",
       "      <td>1</td>\n",
       "      <td>[0, 0, 0, 0, 0, 0, 0, 0, 0, 0, 0, 2, 0, 0, 0]</td>\n",
       "    </tr>\n",
       "  </tbody>\n",
       "</table>\n",
       "</div>"
      ],
      "text/plain": [
       "                                user_id                                gui_id  task_number  gui_number     nlr_query            feature_text                                                                                                                                                                                                          feature_question           timestamp selected_gui_id  feature_annotation  matching_annotation  feature_annotation_original                                     relevances\n",
       "0  774c7102-7340-4a69-bbdf-38e926fd3c98  ea391d5c-034c-4734-bf09-cee1c1c2f733            1           1  product page     product description                                      Is a <b>'product description'</b> feature in the GUI a requirement for you? This feature provides a detailed description of the product, including its features, uses, and benefits. 2023-07-24 13:29:35         \"25967\"                   2                    2                            1  [0, 0, 2, 0, 0, 0, 0, 0, 0, 0, 0, 0, 0, 0, 0]\n",
       "1  774c7102-7340-4a69-bbdf-38e926fd3c98  ea391d5c-034c-4734-bf09-cee1c1c2f733            1           1  product page               discounts                                           Often similar GUIs contain a <b>'discounts'</b> feature, is it also required for your GUI? This feature displays any discounts or promotional offers available for the product. 2023-07-24 13:30:07         \"35152\"                   2                    0                            1  [2, 0, 0, 0, 0, 0, 0, 0, 0, 0, 0, 0, 0, 0, 0]\n",
       "3  774c7102-7340-4a69-bbdf-38e926fd3c98  ea391d5c-034c-4734-bf09-cee1c1c2f733            1           1  product page  product specifications  A <b>'product specifications'</b> feature is often used in similar GUIs, do you need it as well? This feature lists the technical details and specifications of the product, such as dimensions, weight, materials, etc. 2023-07-24 13:31:12          \"5128\"                   2                   11                            1  [0, 0, 0, 0, 0, 0, 0, 0, 0, 0, 0, 2, 0, 0, 0]"
      ]
     },
     "execution_count": 31,
     "metadata": {},
     "output_type": "execute_result"
    }
   ],
   "source": [
    "filtered_df[:3]"
   ]
  },
  {
   "cell_type": "code",
   "execution_count": 32,
   "id": "c8f15c06",
   "metadata": {},
   "outputs": [
    {
     "data": {
      "text/html": [
       "<div>\n",
       "<style scoped>\n",
       "    .dataframe tbody tr th:only-of-type {\n",
       "        vertical-align: middle;\n",
       "    }\n",
       "\n",
       "    .dataframe tbody tr th {\n",
       "        vertical-align: top;\n",
       "    }\n",
       "\n",
       "    .dataframe thead th {\n",
       "        text-align: right;\n",
       "    }\n",
       "</style>\n",
       "<table border=\"1\" class=\"dataframe\">\n",
       "  <thead>\n",
       "    <tr style=\"text-align: right;\">\n",
       "      <th></th>\n",
       "      <th>task_number</th>\n",
       "      <th>gui_number</th>\n",
       "      <th>relevances</th>\n",
       "    </tr>\n",
       "  </thead>\n",
       "  <tbody>\n",
       "    <tr>\n",
       "      <th>0</th>\n",
       "      <td>1</td>\n",
       "      <td>1</td>\n",
       "      <td>[[0, 0, 2, 0, 0, 0, 0, 0, 0, 0, 0, 0, 0, 0, 0], [2, 0, 0, 0, 0, 0, 0, 0, 0, 0, 0, 0, 0, 0, 0], [0, 0, 0, 0, 0, 0, 0, 0, 0, 0, 0, 2, 0, 0, 0], [0, 0, 0, 0, 0, 0, 0, 0, 0, 0, 0, 0, 0, 0, 2], [2, 0, 0, 0, 0, 0, 0, 0, 0, 0, 0, 0, 0, 0, 0], [0, 0, 0, 2, 0, 0, 0, 0, 0, 0, 0, 0, 0, 0, 0], [0, 0, 0, 2, 0, 0, 0, 0, 0, 0, 0, 0, 0, 0, 0], [2, 0, 0, 0, 0, 0, 0, 0, 0, 0, 0, 0, 0, 0, 0], [0, 0, 0, 0, 2, 0, 0, 0, 0, 0, 0, 0, 0, 0, 0], [0, 2, 0, 0, 0, 0, 0, 0, 0, 0, 0, 0, 0, 0, 0], [0, 0, 2, 0, 0, 0, 0, 0, 0, 0, 0, 0, 0, 0, 0], [0, 0, 0, 0, 2, 0, 0, 0, 0, 0, 0, 0, 0, 0, 0], [0, 0, 0, 0, 0, 0, 0, 0, 0, 0, 0, 0, 0, 0, 0], [0, 2, 0, 0, 0, 0, 0, 0, 0, 0, 0, 0, 0, 0, 0], [0, 2, 0, 0, 0, 0, 0, 0, 0, 0, 0, 0, 0, 0, 0], [0, 2, 0, 0, 0, 0, 0, 0, 0, 0, 0, 0, 0, 0, 0], [0, 0, 0, 0, 2, 0, 0, 0, 0, 0, 0, 0, 0, 0, 0], [0, 0, 0, 0, 0, 0, 0, 0, 2, 0, 0, 0, 0, 0, 0], [0, 2, 0, 0, 0, 0, 0, 0, 0, 0, 0, 0, 0, 0, 0], [0, 0, 0, 0, 0, 0, 0, 0, 0, 0, 0, 0, 0, 0, 0], [2, 0, 0, 0, 0, 0, 0, 0, 0, 0, 0, 0, 0, 0, 0], [0, 0, 0, 0, 0, 0, 0, 0, 0, 0, 0, 0, 0, 0, 0], [0, 0, 0, 0, 0, 0, 0, 0, 0, 0, 0, 0, 0, 0, 0], [0, 0, 0, 0, 0, 0, 0, 0, 0, 0, 0, 0, 0, 2, 0], [0, 0, 0, 0, 0, 0, 0, 0, 0, 0, 0, 0, 0, 0, 0], [0, 0, 0, 0, 0, 0, 0, 0, 0, 0, 0, 0, 0, 0, 0], [0, 0, 0, 0, 0, 0, 0, 0, 0, 2, 0, 0, 0, 0, 0], [0, 0, 0, 0, 0, 0, 0, 0, 0, 0, 0, 0, 0, 0, 0], [2, 0, 0, 0, 0, 0, 0, 0, 0, 0, 0, 0, 0, 0, 0], [0, 0, 0, 0, 0, 0, 0, 0, 0, 0, 0, 0, 0, 0, 0], [2, 0, 0, 0, 0, 0, 0, 0, 0, 0, 0, 0, 0, 0, 0], [0, 0, 0, 0, 0, 0, 0, 0, 0, 0, 0, 0, 0, 0, 0], [0, 0, 0, 0, 0, 0, 0, 0, 0, 0, 0, 0, 0, 0, 0], [0, 0, 0, 0, 0, 0, 0, 0, 0, 2, 0, 0, 0, 0, 0], [0, 0, 0, 0, 0, 2, 0, 0, 0, 0, 0, 0, 0, 0, 0], [0, 0, 0, 0, 0, 2, 0, 0, 0, 0, 0, 0, 0, 0, 0], [0, 0, 2, 0, 0, 0, 0, 0, 0, 0, 0, 0, 0, 0, 0], [0, 0, 0, 0, 2, 0, 0, 0, 0, 0, 0, 0, 0, 0, 0], [0, 0, 0, 0, 0, 0, 0, 0, 0, 0, 0, 0, 0, 2, 0], [2, 0, 0, 0, 0, 0, 0, 0, 0, 0, 0, 0, 0, 0, 0], [0, 2, 0, 0, 0, 0, 0, 0, 0, 0, 0, 0, 0, 0, 0], [0, 2, 0, 0, 0, 0, 0, 0, 0, 0, 0, 0, 0, 0, 0], [0, 0, 0, 0, 0, 0, 0, 0, 0, 0, 0, 0, 0, 0, 0], [2, 0, 0, 0, 0, 0, 0, 0, 0, 0, 0, 0, 0, 0, 0], [2, 0, 0, 0, 0, 0, 0, 0, 0, 0, 0, 0, 0, 0, 0]]</td>\n",
       "    </tr>\n",
       "    <tr>\n",
       "      <th>1</th>\n",
       "      <td>1</td>\n",
       "      <td>2</td>\n",
       "      <td>[[0, 0, 0, 0, 0, 0, 2, 0, 0, 0, 0, 0, 0, 0, 0], [0, 0, 0, 0, 0, 0, 0, 0, 0, 0, 0, 0, 0, 0, 0], [0, 0, 0, 0, 0, 0, 0, 0, 0, 0, 0, 0, 2, 0, 0], [0, 0, 0, 0, 0, 2, 0, 0, 0, 0, 0, 0, 0, 0, 0], [0, 0, 0, 0, 0, 2, 0, 0, 0, 0, 0, 0, 0, 0, 0], [0, 0, 0, 2, 0, 0, 0, 0, 0, 0, 0, 0, 0, 0, 0], [0, 0, 2, 0, 0, 0, 0, 0, 0, 0, 0, 0, 0, 0, 0], [2, 0, 0, 0, 0, 0, 0, 0, 0, 0, 0, 0, 0, 0, 0], [2, 0, 0, 0, 0, 0, 0, 0, 0, 0, 0, 0, 0, 0, 0], [0, 0, 0, 0, 0, 0, 0, 0, 0, 0, 0, 0, 0, 0, 0], [0, 0, 0, 2, 0, 0, 0, 0, 0, 0, 0, 0, 0, 0, 0], [0, 2, 0, 0, 0, 0, 0, 0, 0, 0, 0, 0, 0, 0, 0], [0, 2, 0, 0, 0, 0, 0, 0, 0, 0, 0, 0, 0, 0, 0], [2, 0, 0, 0, 0, 0, 0, 0, 0, 0, 0, 0, 0, 0, 0], [0, 0, 0, 2, 0, 0, 0, 0, 0, 0, 0, 0, 0, 0, 0], [2, 0, 0, 0, 0, 0, 0, 0, 0, 0, 0, 0, 0, 0, 0], [0, 2, 0, 0, 0, 0, 0, 0, 0, 0, 0, 0, 0, 0, 0], [2, 0, 0, 0, 0, 0, 0, 0, 0, 0, 0, 0, 0, 0, 0], [2, 0, 0, 0, 0, 0, 0, 0, 0, 0, 0, 0, 0, 0, 0], [2, 0, 0, 0, 0, 0, 0, 0, 0, 0, 0, 0, 0, 0, 0], [0, 2, 0, 0, 0, 0, 0, 0, 0, 0, 0, 0, 0, 0, 0], [0, 2, 0, 0, 0, 0, 0, 0, 0, 0, 0, 0, 0, 0, 0], [2, 0, 0, 0, 0, 0, 0, 0, 0, 0, 0, 0, 0, 0, 0], [0, 0, 0, 0, 0, 0, 0, 0, 0, 0, 0, 0, 0, 0, 0], [2, 0, 0, 0, 0, 0, 0, 0, 0, 0, 0, 0, 0, 0, 0], [0, 0, 0, 0, 0, 0, 2, 0, 0, 0, 0, 0, 0, 0, 0], [0, 0, 0, 0, 0, 0, 0, 0, 0, 0, 0, 0, 0, 0, 0], [0, 0, 0, 0, 0, 0, 0, 0, 0, 0, 0, 0, 0, 0, 0], [0, 0, 0, 0, 0, 0, 0, 0, 0, 0, 0, 0, 0, 0, 0], [0, 0, 0, 0, 0, 0, 0, 0, 0, 0, 2, 0, 0, 0, 0], [0, 2, 0, 0, 0, 0, 0, 0, 0, 0, 0, 0, 0, 0, 0], [2, 0, 0, 0, 0, 0, 0, 0, 0, 0, 0, 0, 0, 0, 0], [0, 0, 0, 0, 0, 0, 0, 2, 0, 0, 0, 0, 0, 0, 0], [0, 0, 0, 0, 0, 0, 0, 0, 0, 0, 0, 0, 0, 0, 0], [0, 0, 0, 0, 0, 0, 0, 0, 0, 0, 0, 0, 0, 0, 0], [0, 0, 0, 0, 0, 0, 0, 0, 0, 0, 0, 2, 0, 0, 0], [0, 0, 0, 0, 0, 0, 0, 0, 0, 0, 0, 0, 0, 0, 0], [0, 0, 0, 0, 0, 0, 0, 0, 0, 0, 0, 0, 0, 0, 0], [0, 0, 0, 0, 0, 0, 0, 0, 0, 0, 0, 0, 0, 0, 0], [0, 0, 0, 0, 0, 0, 0, 0, 0, 0, 0, 0, 0, 0, 0], [0, 0, 0, 0, 0, 0, 0, 0, 0, 0, 0, 0, 0, 0, 0], [0, 0, 0, 0, 0, 0, 0, 0, 0, 0, 0, 0, 0, 0, 0], [0, 0, 0, 0, 0, 0, 0, 0, 0, 0, 0, 0, 0, 0, 0], [0, 2, 0, 0, 0, 0, 0, 0, 0, 0, 0, 0, 0, 0, 0], [0, 2, 0, 0, 0, 0, 0, 0, 0, 0, 0, 0, 0, 0, 0], [2, 0, 0, 0, 0, 0, 0, 0, 0, 0, 0, 0, 0, 0, 0], [0, 0, 2, 0, 0, 0, 0, 0, 0, 0, 0, 0, 0, 0, 0], [0, 0, 2, 0, 0, 0, 0, 0, 0, 0, 0, 0, 0, 0, 0], [2, 0, 0, 0, 0, 0, 0, 0, 0, 0, 0, 0, 0, 0, 0], [2, 0, 0, 0, 0, 0, 0, 0, 0, 0, 0, 0, 0, 0, 0], [0, 2, 0, 0, 0, 0, 0, 0, 0, 0, 0, 0, 0, 0, 0], [2, 0, 0, 0, 0, 0, 0, 0, 0, 0, 0, 0, 0, 0, 0], [0, 0, 0, 0, 0, 2, 0, 0, 0, 0, 0, 0, 0, 0, 0], [2, 0, 0, 0, 0, 0, 0, 0, 0, 0, 0, 0, 0, 0, 0], [0, 0, 0, 0, 0, 0, 0, 0, 0, 0, 0, 0, 0, 0, 0], [0, 0, 2, 0, 0, 0, 0, 0, 0, 0, 0, 0, 0, 0, 0], [0, 0, 2, 0, 0, 0, 0, 0, 0, 0, 0, 0, 0, 0, 0], [2, 0, 0, 0, 0, 0, 0, 0, 0, 0, 0, 0, 0, 0, 0]]</td>\n",
       "    </tr>\n",
       "  </tbody>\n",
       "</table>\n",
       "</div>"
      ],
      "text/plain": [
       "   task_number  gui_number                                                                                                                                                                                                                                                                                                                                                                                                                                                                                                                                                                                                                                                                                                                                                                                                                                                                                                                                                                                                                                                                                                                                                                                                                                                                                                                                                                                                                                                                                                                                                                                                                                                                                                                                                                                                                                                                                                                                                                                                                                                                                                                                                                                                                                                                                                                                                                                                                                                                                                                                                                                                                                                                                                                                                                                                                              relevances\n",
       "0            1           1                                                                                                                                                                                                                                                                                                                                                                                                                                                                                                                                                                                                                                     [[0, 0, 2, 0, 0, 0, 0, 0, 0, 0, 0, 0, 0, 0, 0], [2, 0, 0, 0, 0, 0, 0, 0, 0, 0, 0, 0, 0, 0, 0], [0, 0, 0, 0, 0, 0, 0, 0, 0, 0, 0, 2, 0, 0, 0], [0, 0, 0, 0, 0, 0, 0, 0, 0, 0, 0, 0, 0, 0, 2], [2, 0, 0, 0, 0, 0, 0, 0, 0, 0, 0, 0, 0, 0, 0], [0, 0, 0, 2, 0, 0, 0, 0, 0, 0, 0, 0, 0, 0, 0], [0, 0, 0, 2, 0, 0, 0, 0, 0, 0, 0, 0, 0, 0, 0], [2, 0, 0, 0, 0, 0, 0, 0, 0, 0, 0, 0, 0, 0, 0], [0, 0, 0, 0, 2, 0, 0, 0, 0, 0, 0, 0, 0, 0, 0], [0, 2, 0, 0, 0, 0, 0, 0, 0, 0, 0, 0, 0, 0, 0], [0, 0, 2, 0, 0, 0, 0, 0, 0, 0, 0, 0, 0, 0, 0], [0, 0, 0, 0, 2, 0, 0, 0, 0, 0, 0, 0, 0, 0, 0], [0, 0, 0, 0, 0, 0, 0, 0, 0, 0, 0, 0, 0, 0, 0], [0, 2, 0, 0, 0, 0, 0, 0, 0, 0, 0, 0, 0, 0, 0], [0, 2, 0, 0, 0, 0, 0, 0, 0, 0, 0, 0, 0, 0, 0], [0, 2, 0, 0, 0, 0, 0, 0, 0, 0, 0, 0, 0, 0, 0], [0, 0, 0, 0, 2, 0, 0, 0, 0, 0, 0, 0, 0, 0, 0], [0, 0, 0, 0, 0, 0, 0, 0, 2, 0, 0, 0, 0, 0, 0], [0, 2, 0, 0, 0, 0, 0, 0, 0, 0, 0, 0, 0, 0, 0], [0, 0, 0, 0, 0, 0, 0, 0, 0, 0, 0, 0, 0, 0, 0], [2, 0, 0, 0, 0, 0, 0, 0, 0, 0, 0, 0, 0, 0, 0], [0, 0, 0, 0, 0, 0, 0, 0, 0, 0, 0, 0, 0, 0, 0], [0, 0, 0, 0, 0, 0, 0, 0, 0, 0, 0, 0, 0, 0, 0], [0, 0, 0, 0, 0, 0, 0, 0, 0, 0, 0, 0, 0, 2, 0], [0, 0, 0, 0, 0, 0, 0, 0, 0, 0, 0, 0, 0, 0, 0], [0, 0, 0, 0, 0, 0, 0, 0, 0, 0, 0, 0, 0, 0, 0], [0, 0, 0, 0, 0, 0, 0, 0, 0, 2, 0, 0, 0, 0, 0], [0, 0, 0, 0, 0, 0, 0, 0, 0, 0, 0, 0, 0, 0, 0], [2, 0, 0, 0, 0, 0, 0, 0, 0, 0, 0, 0, 0, 0, 0], [0, 0, 0, 0, 0, 0, 0, 0, 0, 0, 0, 0, 0, 0, 0], [2, 0, 0, 0, 0, 0, 0, 0, 0, 0, 0, 0, 0, 0, 0], [0, 0, 0, 0, 0, 0, 0, 0, 0, 0, 0, 0, 0, 0, 0], [0, 0, 0, 0, 0, 0, 0, 0, 0, 0, 0, 0, 0, 0, 0], [0, 0, 0, 0, 0, 0, 0, 0, 0, 2, 0, 0, 0, 0, 0], [0, 0, 0, 0, 0, 2, 0, 0, 0, 0, 0, 0, 0, 0, 0], [0, 0, 0, 0, 0, 2, 0, 0, 0, 0, 0, 0, 0, 0, 0], [0, 0, 2, 0, 0, 0, 0, 0, 0, 0, 0, 0, 0, 0, 0], [0, 0, 0, 0, 2, 0, 0, 0, 0, 0, 0, 0, 0, 0, 0], [0, 0, 0, 0, 0, 0, 0, 0, 0, 0, 0, 0, 0, 2, 0], [2, 0, 0, 0, 0, 0, 0, 0, 0, 0, 0, 0, 0, 0, 0], [0, 2, 0, 0, 0, 0, 0, 0, 0, 0, 0, 0, 0, 0, 0], [0, 2, 0, 0, 0, 0, 0, 0, 0, 0, 0, 0, 0, 0, 0], [0, 0, 0, 0, 0, 0, 0, 0, 0, 0, 0, 0, 0, 0, 0], [2, 0, 0, 0, 0, 0, 0, 0, 0, 0, 0, 0, 0, 0, 0], [2, 0, 0, 0, 0, 0, 0, 0, 0, 0, 0, 0, 0, 0, 0]]\n",
       "1            1           2  [[0, 0, 0, 0, 0, 0, 2, 0, 0, 0, 0, 0, 0, 0, 0], [0, 0, 0, 0, 0, 0, 0, 0, 0, 0, 0, 0, 0, 0, 0], [0, 0, 0, 0, 0, 0, 0, 0, 0, 0, 0, 0, 2, 0, 0], [0, 0, 0, 0, 0, 2, 0, 0, 0, 0, 0, 0, 0, 0, 0], [0, 0, 0, 0, 0, 2, 0, 0, 0, 0, 0, 0, 0, 0, 0], [0, 0, 0, 2, 0, 0, 0, 0, 0, 0, 0, 0, 0, 0, 0], [0, 0, 2, 0, 0, 0, 0, 0, 0, 0, 0, 0, 0, 0, 0], [2, 0, 0, 0, 0, 0, 0, 0, 0, 0, 0, 0, 0, 0, 0], [2, 0, 0, 0, 0, 0, 0, 0, 0, 0, 0, 0, 0, 0, 0], [0, 0, 0, 0, 0, 0, 0, 0, 0, 0, 0, 0, 0, 0, 0], [0, 0, 0, 2, 0, 0, 0, 0, 0, 0, 0, 0, 0, 0, 0], [0, 2, 0, 0, 0, 0, 0, 0, 0, 0, 0, 0, 0, 0, 0], [0, 2, 0, 0, 0, 0, 0, 0, 0, 0, 0, 0, 0, 0, 0], [2, 0, 0, 0, 0, 0, 0, 0, 0, 0, 0, 0, 0, 0, 0], [0, 0, 0, 2, 0, 0, 0, 0, 0, 0, 0, 0, 0, 0, 0], [2, 0, 0, 0, 0, 0, 0, 0, 0, 0, 0, 0, 0, 0, 0], [0, 2, 0, 0, 0, 0, 0, 0, 0, 0, 0, 0, 0, 0, 0], [2, 0, 0, 0, 0, 0, 0, 0, 0, 0, 0, 0, 0, 0, 0], [2, 0, 0, 0, 0, 0, 0, 0, 0, 0, 0, 0, 0, 0, 0], [2, 0, 0, 0, 0, 0, 0, 0, 0, 0, 0, 0, 0, 0, 0], [0, 2, 0, 0, 0, 0, 0, 0, 0, 0, 0, 0, 0, 0, 0], [0, 2, 0, 0, 0, 0, 0, 0, 0, 0, 0, 0, 0, 0, 0], [2, 0, 0, 0, 0, 0, 0, 0, 0, 0, 0, 0, 0, 0, 0], [0, 0, 0, 0, 0, 0, 0, 0, 0, 0, 0, 0, 0, 0, 0], [2, 0, 0, 0, 0, 0, 0, 0, 0, 0, 0, 0, 0, 0, 0], [0, 0, 0, 0, 0, 0, 2, 0, 0, 0, 0, 0, 0, 0, 0], [0, 0, 0, 0, 0, 0, 0, 0, 0, 0, 0, 0, 0, 0, 0], [0, 0, 0, 0, 0, 0, 0, 0, 0, 0, 0, 0, 0, 0, 0], [0, 0, 0, 0, 0, 0, 0, 0, 0, 0, 0, 0, 0, 0, 0], [0, 0, 0, 0, 0, 0, 0, 0, 0, 0, 2, 0, 0, 0, 0], [0, 2, 0, 0, 0, 0, 0, 0, 0, 0, 0, 0, 0, 0, 0], [2, 0, 0, 0, 0, 0, 0, 0, 0, 0, 0, 0, 0, 0, 0], [0, 0, 0, 0, 0, 0, 0, 2, 0, 0, 0, 0, 0, 0, 0], [0, 0, 0, 0, 0, 0, 0, 0, 0, 0, 0, 0, 0, 0, 0], [0, 0, 0, 0, 0, 0, 0, 0, 0, 0, 0, 0, 0, 0, 0], [0, 0, 0, 0, 0, 0, 0, 0, 0, 0, 0, 2, 0, 0, 0], [0, 0, 0, 0, 0, 0, 0, 0, 0, 0, 0, 0, 0, 0, 0], [0, 0, 0, 0, 0, 0, 0, 0, 0, 0, 0, 0, 0, 0, 0], [0, 0, 0, 0, 0, 0, 0, 0, 0, 0, 0, 0, 0, 0, 0], [0, 0, 0, 0, 0, 0, 0, 0, 0, 0, 0, 0, 0, 0, 0], [0, 0, 0, 0, 0, 0, 0, 0, 0, 0, 0, 0, 0, 0, 0], [0, 0, 0, 0, 0, 0, 0, 0, 0, 0, 0, 0, 0, 0, 0], [0, 0, 0, 0, 0, 0, 0, 0, 0, 0, 0, 0, 0, 0, 0], [0, 2, 0, 0, 0, 0, 0, 0, 0, 0, 0, 0, 0, 0, 0], [0, 2, 0, 0, 0, 0, 0, 0, 0, 0, 0, 0, 0, 0, 0], [2, 0, 0, 0, 0, 0, 0, 0, 0, 0, 0, 0, 0, 0, 0], [0, 0, 2, 0, 0, 0, 0, 0, 0, 0, 0, 0, 0, 0, 0], [0, 0, 2, 0, 0, 0, 0, 0, 0, 0, 0, 0, 0, 0, 0], [2, 0, 0, 0, 0, 0, 0, 0, 0, 0, 0, 0, 0, 0, 0], [2, 0, 0, 0, 0, 0, 0, 0, 0, 0, 0, 0, 0, 0, 0], [0, 2, 0, 0, 0, 0, 0, 0, 0, 0, 0, 0, 0, 0, 0], [2, 0, 0, 0, 0, 0, 0, 0, 0, 0, 0, 0, 0, 0, 0], [0, 0, 0, 0, 0, 2, 0, 0, 0, 0, 0, 0, 0, 0, 0], [2, 0, 0, 0, 0, 0, 0, 0, 0, 0, 0, 0, 0, 0, 0], [0, 0, 0, 0, 0, 0, 0, 0, 0, 0, 0, 0, 0, 0, 0], [0, 0, 2, 0, 0, 0, 0, 0, 0, 0, 0, 0, 0, 0, 0], [0, 0, 2, 0, 0, 0, 0, 0, 0, 0, 0, 0, 0, 0, 0], [2, 0, 0, 0, 0, 0, 0, 0, 0, 0, 0, 0, 0, 0, 0]]"
      ]
     },
     "execution_count": 32,
     "metadata": {},
     "output_type": "execute_result"
    }
   ],
   "source": [
    "filtered_df_grouped = filtered_df.groupby(['task_number', 'gui_number']).agg({'relevances': list}).reset_index()\n",
    "filtered_df_grouped[:2]"
   ]
  },
  {
   "cell_type": "code",
   "execution_count": 33,
   "id": "acb91a4c",
   "metadata": {},
   "outputs": [
    {
     "data": {
      "text/html": [
       "<div>\n",
       "<style scoped>\n",
       "    .dataframe tbody tr th:only-of-type {\n",
       "        vertical-align: middle;\n",
       "    }\n",
       "\n",
       "    .dataframe tbody tr th {\n",
       "        vertical-align: top;\n",
       "    }\n",
       "\n",
       "    .dataframe thead th {\n",
       "        text-align: right;\n",
       "    }\n",
       "</style>\n",
       "<table border=\"1\" class=\"dataframe\">\n",
       "  <thead>\n",
       "    <tr style=\"text-align: right;\">\n",
       "      <th></th>\n",
       "      <th>task_number</th>\n",
       "      <th>gui_number</th>\n",
       "      <th>relevances</th>\n",
       "      <th>task</th>\n",
       "    </tr>\n",
       "  </thead>\n",
       "  <tbody>\n",
       "    <tr>\n",
       "      <th>0</th>\n",
       "      <td>1</td>\n",
       "      <td>1</td>\n",
       "      <td>[[0, 0, 2, 0, 0, 0, 0, 0, 0, 0, 0, 0, 0, 0, 0], [2, 0, 0, 0, 0, 0, 0, 0, 0, 0, 0, 0, 0, 0, 0], [0, 0, 0, 0, 0, 0, 0, 0, 0, 0, 0, 2, 0, 0, 0], [0, 0, 0, 0, 0, 0, 0, 0, 0, 0, 0, 0, 0, 0, 2], [2, 0, 0, 0, 0, 0, 0, 0, 0, 0, 0, 0, 0, 0, 0], [0, 0, 0, 2, 0, 0, 0, 0, 0, 0, 0, 0, 0, 0, 0], [0, 0, 0, 2, 0, 0, 0, 0, 0, 0, 0, 0, 0, 0, 0], [2, 0, 0, 0, 0, 0, 0, 0, 0, 0, 0, 0, 0, 0, 0], [0, 0, 0, 0, 2, 0, 0, 0, 0, 0, 0, 0, 0, 0, 0], [0, 2, 0, 0, 0, 0, 0, 0, 0, 0, 0, 0, 0, 0, 0], [0, 0, 2, 0, 0, 0, 0, 0, 0, 0, 0, 0, 0, 0, 0], [0, 0, 0, 0, 2, 0, 0, 0, 0, 0, 0, 0, 0, 0, 0], [0, 0, 0, 0, 0, 0, 0, 0, 0, 0, 0, 0, 0, 0, 0], [0, 2, 0, 0, 0, 0, 0, 0, 0, 0, 0, 0, 0, 0, 0], [0, 2, 0, 0, 0, 0, 0, 0, 0, 0, 0, 0, 0, 0, 0], [0, 2, 0, 0, 0, 0, 0, 0, 0, 0, 0, 0, 0, 0, 0], [0, 0, 0, 0, 2, 0, 0, 0, 0, 0, 0, 0, 0, 0, 0], [0, 0, 0, 0, 0, 0, 0, 0, 2, 0, 0, 0, 0, 0, 0], [0, 2, 0, 0, 0, 0, 0, 0, 0, 0, 0, 0, 0, 0, 0], [0, 0, 0, 0, 0, 0, 0, 0, 0, 0, 0, 0, 0, 0, 0], [2, 0, 0, 0, 0, 0, 0, 0, 0, 0, 0, 0, 0, 0, 0], [0, 0, 0, 0, 0, 0, 0, 0, 0, 0, 0, 0, 0, 0, 0], [0, 0, 0, 0, 0, 0, 0, 0, 0, 0, 0, 0, 0, 0, 0], [0, 0, 0, 0, 0, 0, 0, 0, 0, 0, 0, 0, 0, 2, 0], [0, 0, 0, 0, 0, 0, 0, 0, 0, 0, 0, 0, 0, 0, 0], [0, 0, 0, 0, 0, 0, 0, 0, 0, 0, 0, 0, 0, 0, 0], [0, 0, 0, 0, 0, 0, 0, 0, 0, 2, 0, 0, 0, 0, 0], [0, 0, 0, 0, 0, 0, 0, 0, 0, 0, 0, 0, 0, 0, 0], [2, 0, 0, 0, 0, 0, 0, 0, 0, 0, 0, 0, 0, 0, 0], [0, 0, 0, 0, 0, 0, 0, 0, 0, 0, 0, 0, 0, 0, 0], [2, 0, 0, 0, 0, 0, 0, 0, 0, 0, 0, 0, 0, 0, 0], [0, 0, 0, 0, 0, 0, 0, 0, 0, 0, 0, 0, 0, 0, 0], [0, 0, 0, 0, 0, 0, 0, 0, 0, 0, 0, 0, 0, 0, 0], [0, 0, 0, 0, 0, 0, 0, 0, 0, 2, 0, 0, 0, 0, 0], [0, 0, 0, 0, 0, 2, 0, 0, 0, 0, 0, 0, 0, 0, 0], [0, 0, 0, 0, 0, 2, 0, 0, 0, 0, 0, 0, 0, 0, 0], [0, 0, 2, 0, 0, 0, 0, 0, 0, 0, 0, 0, 0, 0, 0], [0, 0, 0, 0, 2, 0, 0, 0, 0, 0, 0, 0, 0, 0, 0], [0, 0, 0, 0, 0, 0, 0, 0, 0, 0, 0, 0, 0, 2, 0], [2, 0, 0, 0, 0, 0, 0, 0, 0, 0, 0, 0, 0, 0, 0], [0, 2, 0, 0, 0, 0, 0, 0, 0, 0, 0, 0, 0, 0, 0], [0, 2, 0, 0, 0, 0, 0, 0, 0, 0, 0, 0, 0, 0, 0], [0, 0, 0, 0, 0, 0, 0, 0, 0, 0, 0, 0, 0, 0, 0], [2, 0, 0, 0, 0, 0, 0, 0, 0, 0, 0, 0, 0, 0, 0], [2, 0, 0, 0, 0, 0, 0, 0, 0, 0, 0, 0, 0, 0, 0]]</td>\n",
       "      <td>1-1</td>\n",
       "    </tr>\n",
       "    <tr>\n",
       "      <th>1</th>\n",
       "      <td>1</td>\n",
       "      <td>2</td>\n",
       "      <td>[[0, 0, 0, 0, 0, 0, 2, 0, 0, 0, 0, 0, 0, 0, 0], [0, 0, 0, 0, 0, 0, 0, 0, 0, 0, 0, 0, 0, 0, 0], [0, 0, 0, 0, 0, 0, 0, 0, 0, 0, 0, 0, 2, 0, 0], [0, 0, 0, 0, 0, 2, 0, 0, 0, 0, 0, 0, 0, 0, 0], [0, 0, 0, 0, 0, 2, 0, 0, 0, 0, 0, 0, 0, 0, 0], [0, 0, 0, 2, 0, 0, 0, 0, 0, 0, 0, 0, 0, 0, 0], [0, 0, 2, 0, 0, 0, 0, 0, 0, 0, 0, 0, 0, 0, 0], [2, 0, 0, 0, 0, 0, 0, 0, 0, 0, 0, 0, 0, 0, 0], [2, 0, 0, 0, 0, 0, 0, 0, 0, 0, 0, 0, 0, 0, 0], [0, 0, 0, 0, 0, 0, 0, 0, 0, 0, 0, 0, 0, 0, 0], [0, 0, 0, 2, 0, 0, 0, 0, 0, 0, 0, 0, 0, 0, 0], [0, 2, 0, 0, 0, 0, 0, 0, 0, 0, 0, 0, 0, 0, 0], [0, 2, 0, 0, 0, 0, 0, 0, 0, 0, 0, 0, 0, 0, 0], [2, 0, 0, 0, 0, 0, 0, 0, 0, 0, 0, 0, 0, 0, 0], [0, 0, 0, 2, 0, 0, 0, 0, 0, 0, 0, 0, 0, 0, 0], [2, 0, 0, 0, 0, 0, 0, 0, 0, 0, 0, 0, 0, 0, 0], [0, 2, 0, 0, 0, 0, 0, 0, 0, 0, 0, 0, 0, 0, 0], [2, 0, 0, 0, 0, 0, 0, 0, 0, 0, 0, 0, 0, 0, 0], [2, 0, 0, 0, 0, 0, 0, 0, 0, 0, 0, 0, 0, 0, 0], [2, 0, 0, 0, 0, 0, 0, 0, 0, 0, 0, 0, 0, 0, 0], [0, 2, 0, 0, 0, 0, 0, 0, 0, 0, 0, 0, 0, 0, 0], [0, 2, 0, 0, 0, 0, 0, 0, 0, 0, 0, 0, 0, 0, 0], [2, 0, 0, 0, 0, 0, 0, 0, 0, 0, 0, 0, 0, 0, 0], [0, 0, 0, 0, 0, 0, 0, 0, 0, 0, 0, 0, 0, 0, 0], [2, 0, 0, 0, 0, 0, 0, 0, 0, 0, 0, 0, 0, 0, 0], [0, 0, 0, 0, 0, 0, 2, 0, 0, 0, 0, 0, 0, 0, 0], [0, 0, 0, 0, 0, 0, 0, 0, 0, 0, 0, 0, 0, 0, 0], [0, 0, 0, 0, 0, 0, 0, 0, 0, 0, 0, 0, 0, 0, 0], [0, 0, 0, 0, 0, 0, 0, 0, 0, 0, 0, 0, 0, 0, 0], [0, 0, 0, 0, 0, 0, 0, 0, 0, 0, 2, 0, 0, 0, 0], [0, 2, 0, 0, 0, 0, 0, 0, 0, 0, 0, 0, 0, 0, 0], [2, 0, 0, 0, 0, 0, 0, 0, 0, 0, 0, 0, 0, 0, 0], [0, 0, 0, 0, 0, 0, 0, 2, 0, 0, 0, 0, 0, 0, 0], [0, 0, 0, 0, 0, 0, 0, 0, 0, 0, 0, 0, 0, 0, 0], [0, 0, 0, 0, 0, 0, 0, 0, 0, 0, 0, 0, 0, 0, 0], [0, 0, 0, 0, 0, 0, 0, 0, 0, 0, 0, 2, 0, 0, 0], [0, 0, 0, 0, 0, 0, 0, 0, 0, 0, 0, 0, 0, 0, 0], [0, 0, 0, 0, 0, 0, 0, 0, 0, 0, 0, 0, 0, 0, 0], [0, 0, 0, 0, 0, 0, 0, 0, 0, 0, 0, 0, 0, 0, 0], [0, 0, 0, 0, 0, 0, 0, 0, 0, 0, 0, 0, 0, 0, 0], [0, 0, 0, 0, 0, 0, 0, 0, 0, 0, 0, 0, 0, 0, 0], [0, 0, 0, 0, 0, 0, 0, 0, 0, 0, 0, 0, 0, 0, 0], [0, 0, 0, 0, 0, 0, 0, 0, 0, 0, 0, 0, 0, 0, 0], [0, 2, 0, 0, 0, 0, 0, 0, 0, 0, 0, 0, 0, 0, 0], [0, 2, 0, 0, 0, 0, 0, 0, 0, 0, 0, 0, 0, 0, 0], [2, 0, 0, 0, 0, 0, 0, 0, 0, 0, 0, 0, 0, 0, 0], [0, 0, 2, 0, 0, 0, 0, 0, 0, 0, 0, 0, 0, 0, 0], [0, 0, 2, 0, 0, 0, 0, 0, 0, 0, 0, 0, 0, 0, 0], [2, 0, 0, 0, 0, 0, 0, 0, 0, 0, 0, 0, 0, 0, 0], [2, 0, 0, 0, 0, 0, 0, 0, 0, 0, 0, 0, 0, 0, 0], [0, 2, 0, 0, 0, 0, 0, 0, 0, 0, 0, 0, 0, 0, 0], [2, 0, 0, 0, 0, 0, 0, 0, 0, 0, 0, 0, 0, 0, 0], [0, 0, 0, 0, 0, 2, 0, 0, 0, 0, 0, 0, 0, 0, 0], [2, 0, 0, 0, 0, 0, 0, 0, 0, 0, 0, 0, 0, 0, 0], [0, 0, 0, 0, 0, 0, 0, 0, 0, 0, 0, 0, 0, 0, 0], [0, 0, 2, 0, 0, 0, 0, 0, 0, 0, 0, 0, 0, 0, 0], [0, 0, 2, 0, 0, 0, 0, 0, 0, 0, 0, 0, 0, 0, 0], [2, 0, 0, 0, 0, 0, 0, 0, 0, 0, 0, 0, 0, 0, 0]]</td>\n",
       "      <td>1-2</td>\n",
       "    </tr>\n",
       "  </tbody>\n",
       "</table>\n",
       "</div>"
      ],
      "text/plain": [
       "   task_number  gui_number                                                                                                                                                                                                                                                                                                                                                                                                                                                                                                                                                                                                                                                                                                                                                                                                                                                                                                                                                                                                                                                                                                                                                                                                                                                                                                                                                                                                                                                                                                                                                                                                                                                                                                                                                                                                                                                                                                                                                                                                                                                                                                                                                                                                                                                                                                                                                                                                                                                                                                                                                                                                                                                                                                                                                                                                                              relevances task\n",
       "0            1           1                                                                                                                                                                                                                                                                                                                                                                                                                                                                                                                                                                                                                                     [[0, 0, 2, 0, 0, 0, 0, 0, 0, 0, 0, 0, 0, 0, 0], [2, 0, 0, 0, 0, 0, 0, 0, 0, 0, 0, 0, 0, 0, 0], [0, 0, 0, 0, 0, 0, 0, 0, 0, 0, 0, 2, 0, 0, 0], [0, 0, 0, 0, 0, 0, 0, 0, 0, 0, 0, 0, 0, 0, 2], [2, 0, 0, 0, 0, 0, 0, 0, 0, 0, 0, 0, 0, 0, 0], [0, 0, 0, 2, 0, 0, 0, 0, 0, 0, 0, 0, 0, 0, 0], [0, 0, 0, 2, 0, 0, 0, 0, 0, 0, 0, 0, 0, 0, 0], [2, 0, 0, 0, 0, 0, 0, 0, 0, 0, 0, 0, 0, 0, 0], [0, 0, 0, 0, 2, 0, 0, 0, 0, 0, 0, 0, 0, 0, 0], [0, 2, 0, 0, 0, 0, 0, 0, 0, 0, 0, 0, 0, 0, 0], [0, 0, 2, 0, 0, 0, 0, 0, 0, 0, 0, 0, 0, 0, 0], [0, 0, 0, 0, 2, 0, 0, 0, 0, 0, 0, 0, 0, 0, 0], [0, 0, 0, 0, 0, 0, 0, 0, 0, 0, 0, 0, 0, 0, 0], [0, 2, 0, 0, 0, 0, 0, 0, 0, 0, 0, 0, 0, 0, 0], [0, 2, 0, 0, 0, 0, 0, 0, 0, 0, 0, 0, 0, 0, 0], [0, 2, 0, 0, 0, 0, 0, 0, 0, 0, 0, 0, 0, 0, 0], [0, 0, 0, 0, 2, 0, 0, 0, 0, 0, 0, 0, 0, 0, 0], [0, 0, 0, 0, 0, 0, 0, 0, 2, 0, 0, 0, 0, 0, 0], [0, 2, 0, 0, 0, 0, 0, 0, 0, 0, 0, 0, 0, 0, 0], [0, 0, 0, 0, 0, 0, 0, 0, 0, 0, 0, 0, 0, 0, 0], [2, 0, 0, 0, 0, 0, 0, 0, 0, 0, 0, 0, 0, 0, 0], [0, 0, 0, 0, 0, 0, 0, 0, 0, 0, 0, 0, 0, 0, 0], [0, 0, 0, 0, 0, 0, 0, 0, 0, 0, 0, 0, 0, 0, 0], [0, 0, 0, 0, 0, 0, 0, 0, 0, 0, 0, 0, 0, 2, 0], [0, 0, 0, 0, 0, 0, 0, 0, 0, 0, 0, 0, 0, 0, 0], [0, 0, 0, 0, 0, 0, 0, 0, 0, 0, 0, 0, 0, 0, 0], [0, 0, 0, 0, 0, 0, 0, 0, 0, 2, 0, 0, 0, 0, 0], [0, 0, 0, 0, 0, 0, 0, 0, 0, 0, 0, 0, 0, 0, 0], [2, 0, 0, 0, 0, 0, 0, 0, 0, 0, 0, 0, 0, 0, 0], [0, 0, 0, 0, 0, 0, 0, 0, 0, 0, 0, 0, 0, 0, 0], [2, 0, 0, 0, 0, 0, 0, 0, 0, 0, 0, 0, 0, 0, 0], [0, 0, 0, 0, 0, 0, 0, 0, 0, 0, 0, 0, 0, 0, 0], [0, 0, 0, 0, 0, 0, 0, 0, 0, 0, 0, 0, 0, 0, 0], [0, 0, 0, 0, 0, 0, 0, 0, 0, 2, 0, 0, 0, 0, 0], [0, 0, 0, 0, 0, 2, 0, 0, 0, 0, 0, 0, 0, 0, 0], [0, 0, 0, 0, 0, 2, 0, 0, 0, 0, 0, 0, 0, 0, 0], [0, 0, 2, 0, 0, 0, 0, 0, 0, 0, 0, 0, 0, 0, 0], [0, 0, 0, 0, 2, 0, 0, 0, 0, 0, 0, 0, 0, 0, 0], [0, 0, 0, 0, 0, 0, 0, 0, 0, 0, 0, 0, 0, 2, 0], [2, 0, 0, 0, 0, 0, 0, 0, 0, 0, 0, 0, 0, 0, 0], [0, 2, 0, 0, 0, 0, 0, 0, 0, 0, 0, 0, 0, 0, 0], [0, 2, 0, 0, 0, 0, 0, 0, 0, 0, 0, 0, 0, 0, 0], [0, 0, 0, 0, 0, 0, 0, 0, 0, 0, 0, 0, 0, 0, 0], [2, 0, 0, 0, 0, 0, 0, 0, 0, 0, 0, 0, 0, 0, 0], [2, 0, 0, 0, 0, 0, 0, 0, 0, 0, 0, 0, 0, 0, 0]]  1-1\n",
       "1            1           2  [[0, 0, 0, 0, 0, 0, 2, 0, 0, 0, 0, 0, 0, 0, 0], [0, 0, 0, 0, 0, 0, 0, 0, 0, 0, 0, 0, 0, 0, 0], [0, 0, 0, 0, 0, 0, 0, 0, 0, 0, 0, 0, 2, 0, 0], [0, 0, 0, 0, 0, 2, 0, 0, 0, 0, 0, 0, 0, 0, 0], [0, 0, 0, 0, 0, 2, 0, 0, 0, 0, 0, 0, 0, 0, 0], [0, 0, 0, 2, 0, 0, 0, 0, 0, 0, 0, 0, 0, 0, 0], [0, 0, 2, 0, 0, 0, 0, 0, 0, 0, 0, 0, 0, 0, 0], [2, 0, 0, 0, 0, 0, 0, 0, 0, 0, 0, 0, 0, 0, 0], [2, 0, 0, 0, 0, 0, 0, 0, 0, 0, 0, 0, 0, 0, 0], [0, 0, 0, 0, 0, 0, 0, 0, 0, 0, 0, 0, 0, 0, 0], [0, 0, 0, 2, 0, 0, 0, 0, 0, 0, 0, 0, 0, 0, 0], [0, 2, 0, 0, 0, 0, 0, 0, 0, 0, 0, 0, 0, 0, 0], [0, 2, 0, 0, 0, 0, 0, 0, 0, 0, 0, 0, 0, 0, 0], [2, 0, 0, 0, 0, 0, 0, 0, 0, 0, 0, 0, 0, 0, 0], [0, 0, 0, 2, 0, 0, 0, 0, 0, 0, 0, 0, 0, 0, 0], [2, 0, 0, 0, 0, 0, 0, 0, 0, 0, 0, 0, 0, 0, 0], [0, 2, 0, 0, 0, 0, 0, 0, 0, 0, 0, 0, 0, 0, 0], [2, 0, 0, 0, 0, 0, 0, 0, 0, 0, 0, 0, 0, 0, 0], [2, 0, 0, 0, 0, 0, 0, 0, 0, 0, 0, 0, 0, 0, 0], [2, 0, 0, 0, 0, 0, 0, 0, 0, 0, 0, 0, 0, 0, 0], [0, 2, 0, 0, 0, 0, 0, 0, 0, 0, 0, 0, 0, 0, 0], [0, 2, 0, 0, 0, 0, 0, 0, 0, 0, 0, 0, 0, 0, 0], [2, 0, 0, 0, 0, 0, 0, 0, 0, 0, 0, 0, 0, 0, 0], [0, 0, 0, 0, 0, 0, 0, 0, 0, 0, 0, 0, 0, 0, 0], [2, 0, 0, 0, 0, 0, 0, 0, 0, 0, 0, 0, 0, 0, 0], [0, 0, 0, 0, 0, 0, 2, 0, 0, 0, 0, 0, 0, 0, 0], [0, 0, 0, 0, 0, 0, 0, 0, 0, 0, 0, 0, 0, 0, 0], [0, 0, 0, 0, 0, 0, 0, 0, 0, 0, 0, 0, 0, 0, 0], [0, 0, 0, 0, 0, 0, 0, 0, 0, 0, 0, 0, 0, 0, 0], [0, 0, 0, 0, 0, 0, 0, 0, 0, 0, 2, 0, 0, 0, 0], [0, 2, 0, 0, 0, 0, 0, 0, 0, 0, 0, 0, 0, 0, 0], [2, 0, 0, 0, 0, 0, 0, 0, 0, 0, 0, 0, 0, 0, 0], [0, 0, 0, 0, 0, 0, 0, 2, 0, 0, 0, 0, 0, 0, 0], [0, 0, 0, 0, 0, 0, 0, 0, 0, 0, 0, 0, 0, 0, 0], [0, 0, 0, 0, 0, 0, 0, 0, 0, 0, 0, 0, 0, 0, 0], [0, 0, 0, 0, 0, 0, 0, 0, 0, 0, 0, 2, 0, 0, 0], [0, 0, 0, 0, 0, 0, 0, 0, 0, 0, 0, 0, 0, 0, 0], [0, 0, 0, 0, 0, 0, 0, 0, 0, 0, 0, 0, 0, 0, 0], [0, 0, 0, 0, 0, 0, 0, 0, 0, 0, 0, 0, 0, 0, 0], [0, 0, 0, 0, 0, 0, 0, 0, 0, 0, 0, 0, 0, 0, 0], [0, 0, 0, 0, 0, 0, 0, 0, 0, 0, 0, 0, 0, 0, 0], [0, 0, 0, 0, 0, 0, 0, 0, 0, 0, 0, 0, 0, 0, 0], [0, 0, 0, 0, 0, 0, 0, 0, 0, 0, 0, 0, 0, 0, 0], [0, 2, 0, 0, 0, 0, 0, 0, 0, 0, 0, 0, 0, 0, 0], [0, 2, 0, 0, 0, 0, 0, 0, 0, 0, 0, 0, 0, 0, 0], [2, 0, 0, 0, 0, 0, 0, 0, 0, 0, 0, 0, 0, 0, 0], [0, 0, 2, 0, 0, 0, 0, 0, 0, 0, 0, 0, 0, 0, 0], [0, 0, 2, 0, 0, 0, 0, 0, 0, 0, 0, 0, 0, 0, 0], [2, 0, 0, 0, 0, 0, 0, 0, 0, 0, 0, 0, 0, 0, 0], [2, 0, 0, 0, 0, 0, 0, 0, 0, 0, 0, 0, 0, 0, 0], [0, 2, 0, 0, 0, 0, 0, 0, 0, 0, 0, 0, 0, 0, 0], [2, 0, 0, 0, 0, 0, 0, 0, 0, 0, 0, 0, 0, 0, 0], [0, 0, 0, 0, 0, 2, 0, 0, 0, 0, 0, 0, 0, 0, 0], [2, 0, 0, 0, 0, 0, 0, 0, 0, 0, 0, 0, 0, 0, 0], [0, 0, 0, 0, 0, 0, 0, 0, 0, 0, 0, 0, 0, 0, 0], [0, 0, 2, 0, 0, 0, 0, 0, 0, 0, 0, 0, 0, 0, 0], [0, 0, 2, 0, 0, 0, 0, 0, 0, 0, 0, 0, 0, 0, 0], [2, 0, 0, 0, 0, 0, 0, 0, 0, 0, 0, 0, 0, 0, 0]]  1-2"
      ]
     },
     "execution_count": 33,
     "metadata": {},
     "output_type": "execute_result"
    }
   ],
   "source": [
    "filtered_df_grouped['task'] = filtered_df_grouped['task_number'].astype(str) + '-' + filtered_df_grouped['gui_number'].astype(str)\n",
    "filtered_df_grouped[:2]"
   ]
  },
  {
   "cell_type": "code",
   "execution_count": 34,
   "id": "bce729ed",
   "metadata": {},
   "outputs": [],
   "source": [
    "filtered_df_grouped_task_dict = filtered_df_grouped.set_index('task')['relevances'].to_dict()"
   ]
  },
  {
   "cell_type": "code",
   "execution_count": 35,
   "id": "7d1bdaae",
   "metadata": {},
   "outputs": [],
   "source": [
    "relevances = filtered_df['relevances'].values.tolist()"
   ]
  },
  {
   "cell_type": "code",
   "execution_count": 36,
   "id": "cb9b9236",
   "metadata": {},
   "outputs": [],
   "source": [
    "metrics_feature_ranking = [metricRecipRank,\n",
    "                     metricHitsAt1, metricHitsAt2, metricHitsAt3, metricHitsAt5, metricHitsAt7,metricHitsAt10, metricHitsAt15]"
   ]
  },
  {
   "cell_type": "code",
   "execution_count": 37,
   "id": "c2905e14",
   "metadata": {},
   "outputs": [
    {
     "name": "stdout",
     "output_type": "stream",
     "text": [
      "group    RecipRank    HITS@1    HITS@2    HITS@3    HITS@5    HITS@7    HITS@10    HITS@15\n",
      "-------  -----------  --------  --------  --------  --------  --------  ---------  ---------\n",
      "1-1      |.35         |.2       |.356     |.422     |.556     |.6       |.667      |.756\n",
      "1-2      |.415        |.276     |.431     |.517     |.569     |.655     |.672      |.724\n",
      "1-3      |.289        |.167     |.25      |.312     |.438     |.542     |.604      |.667\n",
      "2-1      |.377        |.242     |.419     |.435     |.468     |.548     |.629      |.758\n",
      "2-2      |.367        |.268     |.357     |.464     |.482     |.554     |.571      |.589\n",
      "2-3      |.308        |.255     |.314     |.314     |.353     |.392     |.451      |.471\n",
      "3-1      |.637        |.52      |.66      |.74      |.78      |.84      |.84       |.86\n",
      "3-2      |.461        |.279     |.395     |.651     |.767     |.837     |.837      |.86\n",
      "3-3      |.301        |.217     |.304     |.37      |.37      |.413     |.457      |.543\n"
     ]
    }
   ],
   "source": [
    "print_table_report_dict(filtered_df_grouped_task_dict, metrics_feature_ranking)"
   ]
  },
  {
   "cell_type": "code",
   "execution_count": 38,
   "id": "bbcc7284",
   "metadata": {},
   "outputs": [
    {
     "name": "stdout",
     "output_type": "stream",
     "text": [
      "group    RecipRank    HITS@1    HITS@2    HITS@3    HITS@5    HITS@7    HITS@10    HITS@15\n",
      "-------  -----------  --------  --------  --------  --------  --------  ---------  ---------\n",
      "Avg.     |.39         |.27      |.39      |.468     |.527     |.595     |.634      |.691\n"
     ]
    }
   ],
   "source": [
    "print_table_report_simpl(relevances, metrics_feature_ranking, 'Avg.')"
   ]
  },
  {
   "cell_type": "markdown",
   "id": "93edd751",
   "metadata": {},
   "source": [
    "## 2.2 Feature Search Relevance"
   ]
  },
  {
   "cell_type": "code",
   "execution_count": 63,
   "id": "9bf8185e",
   "metadata": {},
   "outputs": [],
   "source": [
    "feature_retrieval_relevance_annotations = pd.read_csv(abs_path_data+\"/user_study/relevance/feature_retrieval_relevance_annotations.csv\")\n",
    "feature_retrieval_relevance_annotations['ranking'] = feature_retrieval_relevance_annotations['ranking'].apply(literal_eval)"
   ]
  },
  {
   "cell_type": "code",
   "execution_count": 65,
   "id": "12402a0a",
   "metadata": {},
   "outputs": [
    {
     "data": {
      "text/html": [
       "<div>\n",
       "<style scoped>\n",
       "    .dataframe tbody tr th:only-of-type {\n",
       "        vertical-align: middle;\n",
       "    }\n",
       "\n",
       "    .dataframe tbody tr th {\n",
       "        vertical-align: top;\n",
       "    }\n",
       "\n",
       "    .dataframe thead th {\n",
       "        text-align: right;\n",
       "    }\n",
       "</style>\n",
       "<table border=\"1\" class=\"dataframe\">\n",
       "  <thead>\n",
       "    <tr style=\"text-align: right;\">\n",
       "      <th></th>\n",
       "      <th>Unnamed: 0</th>\n",
       "      <th>user_id</th>\n",
       "      <th>gui_id</th>\n",
       "      <th>task_number</th>\n",
       "      <th>gui_number</th>\n",
       "      <th>nlr_query</th>\n",
       "      <th>feature_query</th>\n",
       "      <th>timestamp</th>\n",
       "      <th>ranking</th>\n",
       "      <th>annotation</th>\n",
       "    </tr>\n",
       "  </thead>\n",
       "  <tbody>\n",
       "    <tr>\n",
       "      <th>0</th>\n",
       "      <td>2</td>\n",
       "      <td>774c7102-7340-4a69-bbdf-38e926fd3c98</td>\n",
       "      <td>ea391d5c-034c-4734-bf09-cee1c1c2f733</td>\n",
       "      <td>1</td>\n",
       "      <td>1</td>\n",
       "      <td>product page</td>\n",
       "      <td>rating</td>\n",
       "      <td>2023-07-24 13:23:48</td>\n",
       "      <td>[{'ui_comp_id': '9459_7', 'text': 'rating', 'score': 1.0, 'rank': 0}, {'ui_comp_id': '69261_36', 'text': 'rating', 'score': 1.0, 'rank': 1}, {'ui_comp_id': '71150_18', 'text': 'rating', 'score': 1.0, 'rank': 2}, {'ui_comp_id': '71140_18', 'text': 'rating', 'score': 1.0, 'rank': 3}, {'ui_comp_id': '42438_6', 'text': 'no rating', 'score': 0.7698610424995422, 'rank': 4}, {'ui_comp_id': '7012_5', 'text': 'rating description', 'score': 0.759916365146637, 'rank': 5}, {'ui_comp_id': '18530_11', 'text': '20 ratings', 'score': 0.7593578100204468, 'rank': 6}, {'ui_comp_id': '7012_4', 'text': 'rating description1', 'score': 0.7443506717681885, 'rank': 7}, {'ui_comp_id': '11233_20', 'text': 'rating count', 'score': 0.7403030395507812, 'rank': 8}, {'ui_comp_id': '69261_35', 'text': 'rating count', 'score': 0.7403030395507812, 'rank': 9}, {'ui_comp_id': '11232_8', 'text': 'rating count', 'score': 0.7403030395507812, 'rank': 10}, {'ui_comp_id': '18530_31', 'text': '19 ratings', 'score': 0.7221965789794922, 'rank': 11}, {'ui_comp_id': '32328_2', 'text': 'general Rating Stars', 'score': 0.697422981262207, 'rank': 12}, {'ui_comp_id': '4066_6', 'text': 'rating Avg', 'score': 0.6956573724746704, 'rank': 13}, {'ui_comp_id': '9459_49', 'text': '/ 1 ratings', 'score': 0.6952208876609802, 'rank': 14}]</td>\n",
       "      <td>1</td>\n",
       "    </tr>\n",
       "  </tbody>\n",
       "</table>\n",
       "</div>"
      ],
      "text/plain": [
       "   Unnamed: 0                               user_id                                gui_id  task_number  gui_number     nlr_query feature_query            timestamp                                                                                                                                                                                                                                                                                                                                                                                                                                                                                                                                                                                                                                                                                                                                                                                                                                                                                                                                                                                                                                                                                                                                                                                                                                                                                                                                             ranking  annotation\n",
       "0           2  774c7102-7340-4a69-bbdf-38e926fd3c98  ea391d5c-034c-4734-bf09-cee1c1c2f733            1           1  product page        rating  2023-07-24 13:23:48  [{'ui_comp_id': '9459_7', 'text': 'rating', 'score': 1.0, 'rank': 0}, {'ui_comp_id': '69261_36', 'text': 'rating', 'score': 1.0, 'rank': 1}, {'ui_comp_id': '71150_18', 'text': 'rating', 'score': 1.0, 'rank': 2}, {'ui_comp_id': '71140_18', 'text': 'rating', 'score': 1.0, 'rank': 3}, {'ui_comp_id': '42438_6', 'text': 'no rating', 'score': 0.7698610424995422, 'rank': 4}, {'ui_comp_id': '7012_5', 'text': 'rating description', 'score': 0.759916365146637, 'rank': 5}, {'ui_comp_id': '18530_11', 'text': '20 ratings', 'score': 0.7593578100204468, 'rank': 6}, {'ui_comp_id': '7012_4', 'text': 'rating description1', 'score': 0.7443506717681885, 'rank': 7}, {'ui_comp_id': '11233_20', 'text': 'rating count', 'score': 0.7403030395507812, 'rank': 8}, {'ui_comp_id': '69261_35', 'text': 'rating count', 'score': 0.7403030395507812, 'rank': 9}, {'ui_comp_id': '11232_8', 'text': 'rating count', 'score': 0.7403030395507812, 'rank': 10}, {'ui_comp_id': '18530_31', 'text': '19 ratings', 'score': 0.7221965789794922, 'rank': 11}, {'ui_comp_id': '32328_2', 'text': 'general Rating Stars', 'score': 0.697422981262207, 'rank': 12}, {'ui_comp_id': '4066_6', 'text': 'rating Avg', 'score': 0.6956573724746704, 'rank': 13}, {'ui_comp_id': '9459_49', 'text': '/ 1 ratings', 'score': 0.6952208876609802, 'rank': 14}]           1"
      ]
     },
     "execution_count": 65,
     "metadata": {},
     "output_type": "execute_result"
    }
   ],
   "source": [
    "feature_retrieval_relevance_annotations[:1]"
   ]
  },
  {
   "cell_type": "code",
   "execution_count": 66,
   "id": "e4544e98",
   "metadata": {},
   "outputs": [],
   "source": [
    "feature_retrieval_relevance_annotations['relevances'] = feature_retrieval_relevance_annotations.apply(lambda row: [2 if int(elem['rank'])==int(row['annotation']) else 0 for elem in row['ranking']] , axis=1)"
   ]
  },
  {
   "cell_type": "code",
   "execution_count": 67,
   "id": "71103b3d",
   "metadata": {},
   "outputs": [],
   "source": [
    "relevances = feature_retrieval_relevance_annotations['relevances'].values.tolist()"
   ]
  },
  {
   "cell_type": "code",
   "execution_count": 69,
   "id": "0dcad60b",
   "metadata": {},
   "outputs": [],
   "source": [
    "metrics_feature_search = [metricRecipRank,\n",
    "                     metricHitsAt1, metricHitsAt2, metricHitsAt3, metricHitsAt5, metricHitsAt7,metricHitsAt10, metricHitsAt15]"
   ]
  },
  {
   "cell_type": "code",
   "execution_count": 70,
   "id": "67f83c98",
   "metadata": {},
   "outputs": [
    {
     "name": "stdout",
     "output_type": "stream",
     "text": [
      "group    RecipRank    HITS@1    HITS@2    HITS@3    HITS@5    HITS@7    HITS@10    HITS@15\n",
      "-------  -----------  --------  --------  --------  --------  --------  ---------  ---------\n",
      "Avg.     |.262        |.071     |.214     |.357     |.571     |.643     |.714      |.786\n"
     ]
    }
   ],
   "source": [
    "print_table_report_simpl(relevances, metrics_feature_search, 'Avg.')"
   ]
  },
  {
   "cell_type": "markdown",
   "id": "133546b9",
   "metadata": {},
   "source": [
    "# 3. GUI Ranking Relevance"
   ]
  },
  {
   "cell_type": "code",
   "execution_count": 205,
   "id": "26bffd35",
   "metadata": {},
   "outputs": [],
   "source": [
    "gui_ranking_relevance = pd.read_csv(abs_path_data+\"/user_study/relevance/gui_ranking_annotation.csv\")\n",
    "gui_ranking_relevance['timestamp'] = pd.to_datetime(gui_ranking_relevance['timestamp'])\n",
    "gui_ranking_relevance['rank_methods'] = gui_ranking_relevance['rank_methods'].apply(literal_eval)\n",
    "gui_ranking_relevance['ranks_initial'] = gui_ranking_relevance['ranks_initial'].apply(literal_eval)\n",
    "gui_ranking_relevance['ranks_reselected'] = gui_ranking_relevance['ranks_reselected'].apply(literal_eval)"
   ]
  },
  {
   "cell_type": "code",
   "execution_count": 206,
   "id": "20bdaafd",
   "metadata": {},
   "outputs": [
    {
     "data": {
      "text/html": [
       "<div>\n",
       "<style scoped>\n",
       "    .dataframe tbody tr th:only-of-type {\n",
       "        vertical-align: middle;\n",
       "    }\n",
       "\n",
       "    .dataframe tbody tr th {\n",
       "        vertical-align: top;\n",
       "    }\n",
       "\n",
       "    .dataframe thead th {\n",
       "        text-align: right;\n",
       "    }\n",
       "</style>\n",
       "<table border=\"1\" class=\"dataframe\">\n",
       "  <thead>\n",
       "    <tr style=\"text-align: right;\">\n",
       "      <th></th>\n",
       "      <th>user_id</th>\n",
       "      <th>gui_id</th>\n",
       "      <th>task_number</th>\n",
       "      <th>gui_number</th>\n",
       "      <th>nlr_query</th>\n",
       "      <th>timestamp</th>\n",
       "      <th>selected_gui_id_initial</th>\n",
       "      <th>selected_gui_id_reselected</th>\n",
       "      <th>rank_methods</th>\n",
       "      <th>ranks_initial</th>\n",
       "      <th>ranks_reselected</th>\n",
       "    </tr>\n",
       "  </thead>\n",
       "  <tbody>\n",
       "    <tr>\n",
       "      <th>0</th>\n",
       "      <td>774c7102-7340-4a69-bbdf-38e926fd3c98</td>\n",
       "      <td>ea391d5c-034c-4734-bf09-cee1c1c2f733</td>\n",
       "      <td>1</td>\n",
       "      <td>1</td>\n",
       "      <td>product page</td>\n",
       "      <td>2023-07-24 13:34:35</td>\n",
       "      <td>gui_69261</td>\n",
       "      <td>gui_69261</td>\n",
       "      <td>[NLR_SBERT, NLR_S2W, NLR_SBERT_S2W, AFB4, AFB5, DFB6, DFB7, DFB8, DFB9, DFB10, DFB11, DFB12]</td>\n",
       "      <td>[-1, 479, 624, -1, -1, 84, 139, 180, 195, 196, 202, 210]</td>\n",
       "      <td>[-1, 479, 624, -1, -1, 84, 139, 180, 195, 196, 202, 210]</td>\n",
       "    </tr>\n",
       "    <tr>\n",
       "      <th>1</th>\n",
       "      <td>36a0a106-544c-41ba-8a87-f9271ebbf589</td>\n",
       "      <td>117a851a-d372-4345-93d1-173083e5c263</td>\n",
       "      <td>1</td>\n",
       "      <td>2</td>\n",
       "      <td>product page</td>\n",
       "      <td>2023-07-24 13:42:09</td>\n",
       "      <td>gui_59872</td>\n",
       "      <td>gui_23359</td>\n",
       "      <td>[NLR_SBERT, NLR_S2W, NLR_SBERT_S2W, DFB4, DFB5, DFB6, DFB7, DFB8, DFB9]</td>\n",
       "      <td>[58, 24, 3, 135, 152, 182, 168, 155, 139]</td>\n",
       "      <td>[-1, 6, 168, 11, 46, 9, 14, 19, 2]</td>\n",
       "    </tr>\n",
       "    <tr>\n",
       "      <th>2</th>\n",
       "      <td>a28e2489-c5af-4e30-bf66-f99208fcde37</td>\n",
       "      <td>1eacb360-90eb-4276-a4e0-28330d020e73</td>\n",
       "      <td>1</td>\n",
       "      <td>3</td>\n",
       "      <td>Checkout page</td>\n",
       "      <td>2023-07-24 13:49:42</td>\n",
       "      <td>gui_69333</td>\n",
       "      <td>gui_69333</td>\n",
       "      <td>[NLR_SBERT, NLR_S2W, NLR_SBERT_S2W, AFB4, DFB5, DFB6, DFB7, DFB8, DFB9, DFB10, DFB11]</td>\n",
       "      <td>[1, 0, 0, -1, 1, 1, 0, 0, 0, 0, 0]</td>\n",
       "      <td>[1, 0, 0, -1, 1, 1, 0, 0, 0, 0, 0]</td>\n",
       "    </tr>\n",
       "  </tbody>\n",
       "</table>\n",
       "</div>"
      ],
      "text/plain": [
       "                                user_id                                gui_id  task_number  gui_number      nlr_query           timestamp selected_gui_id_initial selected_gui_id_reselected                                                                                  rank_methods                                             ranks_initial                                          ranks_reselected\n",
       "0  774c7102-7340-4a69-bbdf-38e926fd3c98  ea391d5c-034c-4734-bf09-cee1c1c2f733            1           1   product page 2023-07-24 13:34:35               gui_69261                  gui_69261  [NLR_SBERT, NLR_S2W, NLR_SBERT_S2W, AFB4, AFB5, DFB6, DFB7, DFB8, DFB9, DFB10, DFB11, DFB12]  [-1, 479, 624, -1, -1, 84, 139, 180, 195, 196, 202, 210]  [-1, 479, 624, -1, -1, 84, 139, 180, 195, 196, 202, 210]\n",
       "1  36a0a106-544c-41ba-8a87-f9271ebbf589  117a851a-d372-4345-93d1-173083e5c263            1           2   product page 2023-07-24 13:42:09               gui_59872                  gui_23359                       [NLR_SBERT, NLR_S2W, NLR_SBERT_S2W, DFB4, DFB5, DFB6, DFB7, DFB8, DFB9]                 [58, 24, 3, 135, 152, 182, 168, 155, 139]                        [-1, 6, 168, 11, 46, 9, 14, 19, 2]\n",
       "2  a28e2489-c5af-4e30-bf66-f99208fcde37  1eacb360-90eb-4276-a4e0-28330d020e73            1           3  Checkout page 2023-07-24 13:49:42               gui_69333                  gui_69333         [NLR_SBERT, NLR_S2W, NLR_SBERT_S2W, AFB4, DFB5, DFB6, DFB7, DFB8, DFB9, DFB10, DFB11]                        [1, 0, 0, -1, 1, 1, 0, 0, 0, 0, 0]                        [1, 0, 0, -1, 1, 1, 0, 0, 0, 0, 0]"
      ]
     },
     "execution_count": 206,
     "metadata": {},
     "output_type": "execute_result"
    }
   ],
   "source": [
    "gui_ranking_relevance[:3]"
   ]
  },
  {
   "cell_type": "code",
   "execution_count": 208,
   "id": "db2b37f8",
   "metadata": {},
   "outputs": [],
   "source": [
    "gui_ranking_relevance['MRR_SBERT'] = gui_ranking_relevance.apply(lambda row: 1/(row['ranks_initial'][0]+1) if row['ranks_initial'][0]!=-1 else 0, axis=1)\n",
    "gui_ranking_relevance['MRR_S2W'] = gui_ranking_relevance.apply(lambda row: 1/(row['ranks_initial'][1]+1) if row['ranks_initial'][1]!=-1 else 0, axis=1)\n",
    "gui_ranking_relevance['MRR_SBERT_S2W'] = gui_ranking_relevance.apply(lambda row: 1/(row['ranks_initial'][2]+1) if row['ranks_initial'][2]!=-1 else 0, axis=1)"
   ]
  },
  {
   "cell_type": "markdown",
   "id": "c0139dd5",
   "metadata": {},
   "source": [
    "## 3.1 GUI Rankers Evaluation"
   ]
  },
  {
   "cell_type": "code",
   "execution_count": 209,
   "id": "b917b608",
   "metadata": {},
   "outputs": [
    {
     "data": {
      "text/plain": [
       "count    72.000000\n",
       "mean      0.172120\n",
       "std       0.258014\n",
       "min       0.000000\n",
       "25%       0.012907\n",
       "50%       0.045455\n",
       "75%       0.200000\n",
       "max       1.000000\n",
       "Name: MRR_SBERT, dtype: float64"
      ]
     },
     "execution_count": 209,
     "metadata": {},
     "output_type": "execute_result"
    }
   ],
   "source": [
    "gui_ranking_relevance['MRR_SBERT'].describe()"
   ]
  },
  {
   "cell_type": "code",
   "execution_count": 210,
   "id": "8f1db91a",
   "metadata": {},
   "outputs": [
    {
     "data": {
      "text/plain": [
       "count    72.000000\n",
       "mean      0.210949\n",
       "std       0.318346\n",
       "min       0.000000\n",
       "25%       0.023671\n",
       "50%       0.062500\n",
       "75%       0.250000\n",
       "max       1.000000\n",
       "Name: MRR_S2W, dtype: float64"
      ]
     },
     "execution_count": 210,
     "metadata": {},
     "output_type": "execute_result"
    }
   ],
   "source": [
    "gui_ranking_relevance['MRR_S2W'].describe()"
   ]
  },
  {
   "cell_type": "code",
   "execution_count": 211,
   "id": "972412bd",
   "metadata": {},
   "outputs": [
    {
     "data": {
      "text/plain": [
       "count    72.000000\n",
       "mean      0.429578\n",
       "std       0.368233\n",
       "min       0.001600\n",
       "25%       0.111111\n",
       "50%       0.333333\n",
       "75%       0.625000\n",
       "max       1.000000\n",
       "Name: MRR_SBERT_S2W, dtype: float64"
      ]
     },
     "execution_count": 211,
     "metadata": {},
     "output_type": "execute_result"
    }
   ],
   "source": [
    "gui_ranking_relevance['MRR_SBERT_S2W'].describe()"
   ]
  },
  {
   "cell_type": "markdown",
   "id": "9242e164",
   "metadata": {},
   "source": [
    "## 3.2 GUI Reranking Evaluation"
   ]
  },
  {
   "cell_type": "code",
   "execution_count": 212,
   "id": "550a2b74",
   "metadata": {},
   "outputs": [],
   "source": [
    "gui_ranking_relevance['rank_improvement'] = gui_ranking_relevance.apply(lambda row: row['ranks_reselected'][2]-row['ranks_reselected'][len(row['ranks_reselected'])-1], axis=1)"
   ]
  },
  {
   "cell_type": "code",
   "execution_count": 213,
   "id": "915e0972",
   "metadata": {},
   "outputs": [],
   "source": [
    "gui_ranking_reselected = gui_ranking_relevance[gui_ranking_relevance['selected_gui_id_initial']!=gui_ranking_relevance['selected_gui_id_reselected']]"
   ]
  },
  {
   "cell_type": "code",
   "execution_count": 214,
   "id": "2b175349",
   "metadata": {},
   "outputs": [
    {
     "data": {
      "text/html": [
       "<div>\n",
       "<style scoped>\n",
       "    .dataframe tbody tr th:only-of-type {\n",
       "        vertical-align: middle;\n",
       "    }\n",
       "\n",
       "    .dataframe tbody tr th {\n",
       "        vertical-align: top;\n",
       "    }\n",
       "\n",
       "    .dataframe thead th {\n",
       "        text-align: right;\n",
       "    }\n",
       "</style>\n",
       "<table border=\"1\" class=\"dataframe\">\n",
       "  <thead>\n",
       "    <tr style=\"text-align: right;\">\n",
       "      <th></th>\n",
       "      <th>user_id</th>\n",
       "      <th>gui_id</th>\n",
       "      <th>task_number</th>\n",
       "      <th>gui_number</th>\n",
       "      <th>nlr_query</th>\n",
       "      <th>timestamp</th>\n",
       "      <th>selected_gui_id_initial</th>\n",
       "      <th>selected_gui_id_reselected</th>\n",
       "      <th>rank_methods</th>\n",
       "      <th>ranks_initial</th>\n",
       "      <th>ranks_reselected</th>\n",
       "      <th>MRR_SBERT</th>\n",
       "      <th>MRR_S2W</th>\n",
       "      <th>MRR_SBERT_S2W</th>\n",
       "      <th>rank_improvement</th>\n",
       "    </tr>\n",
       "  </thead>\n",
       "  <tbody>\n",
       "    <tr>\n",
       "      <th>1</th>\n",
       "      <td>36a0a106-544c-41ba-8a87-f9271ebbf589</td>\n",
       "      <td>117a851a-d372-4345-93d1-173083e5c263</td>\n",
       "      <td>1</td>\n",
       "      <td>2</td>\n",
       "      <td>product page</td>\n",
       "      <td>2023-07-24 13:42:09</td>\n",
       "      <td>gui_59872</td>\n",
       "      <td>gui_23359</td>\n",
       "      <td>[NLR_SBERT, NLR_S2W, NLR_SBERT_S2W, DFB4, DFB5, DFB6, DFB7, DFB8, DFB9]</td>\n",
       "      <td>[58, 24, 3, 135, 152, 182, 168, 155, 139]</td>\n",
       "      <td>[-1, 6, 168, 11, 46, 9, 14, 19, 2]</td>\n",
       "      <td>0.016949</td>\n",
       "      <td>0.040000</td>\n",
       "      <td>0.250000</td>\n",
       "      <td>166</td>\n",
       "    </tr>\n",
       "    <tr>\n",
       "      <th>4</th>\n",
       "      <td>c04ffcd2-b9f5-4e4f-baf9-ff055e61d659</td>\n",
       "      <td>828e5bc1-dbf9-47a1-a7c0-919f7eaf95ae</td>\n",
       "      <td>3</td>\n",
       "      <td>2</td>\n",
       "      <td>user profile</td>\n",
       "      <td>2023-07-24 14:05:47</td>\n",
       "      <td>gui_64741</td>\n",
       "      <td>gui_50314</td>\n",
       "      <td>[NLR_SBERT, NLR_S2W, NLR_SBERT_S2W, AFB4, DFB5, DFB6, DFB7, DFB8, DFB9, DFB10, DFB11]</td>\n",
       "      <td>[121, -1, 326, -1, 87, 43, 45, 79, 91, 116, 125]</td>\n",
       "      <td>[230, 260, 99, -1, 17, 32, 50, 38, 46, 17, 17]</td>\n",
       "      <td>0.008197</td>\n",
       "      <td>0.000000</td>\n",
       "      <td>0.003058</td>\n",
       "      <td>82</td>\n",
       "    </tr>\n",
       "    <tr>\n",
       "      <th>6</th>\n",
       "      <td>9f95f568-fe20-4ef1-8d18-38565ab7e388</td>\n",
       "      <td>5c63126c-d909-4531-8672-2cd06d743964</td>\n",
       "      <td>2</td>\n",
       "      <td>1</td>\n",
       "      <td>news feed</td>\n",
       "      <td>2023-07-24 15:08:25</td>\n",
       "      <td>gui_37241</td>\n",
       "      <td>gui_22914</td>\n",
       "      <td>[NLR_SBERT, NLR_S2W, NLR_SBERT_S2W, DFB4, DFB5, DFB6, DFB7, DFB8]</td>\n",
       "      <td>[74, 16, 8, 6, 5, 6, 10, 4]</td>\n",
       "      <td>[566, 7, 17, 1, 1, 2, 3, 2]</td>\n",
       "      <td>0.013333</td>\n",
       "      <td>0.058824</td>\n",
       "      <td>0.111111</td>\n",
       "      <td>15</td>\n",
       "    </tr>\n",
       "    <tr>\n",
       "      <th>7</th>\n",
       "      <td>d90dea30-a7f3-44c0-afdf-07c25ef30829</td>\n",
       "      <td>eb476d80-e1c7-467b-82fb-98457aa69174</td>\n",
       "      <td>2</td>\n",
       "      <td>2</td>\n",
       "      <td>article in news app</td>\n",
       "      <td>2023-07-24 15:19:33</td>\n",
       "      <td>gui_50663</td>\n",
       "      <td>gui_55280</td>\n",
       "      <td>[NLR_SBERT, NLR_S2W, NLR_SBERT_S2W, DFB4, DFB5, DFB6, DFB7, DFB8, DFB9, DFB10, DFB11]</td>\n",
       "      <td>[626, 135, 34, 143, 154, 156, 138, 143, 136, 126, 120]</td>\n",
       "      <td>[-1, 79, 196, 258, 43, 26, 49, 73, 72, 85, 92]</td>\n",
       "      <td>0.001595</td>\n",
       "      <td>0.007353</td>\n",
       "      <td>0.028571</td>\n",
       "      <td>104</td>\n",
       "    </tr>\n",
       "    <tr>\n",
       "      <th>8</th>\n",
       "      <td>8ca31c27-2a96-4c9d-bf75-c4b041d3ad49</td>\n",
       "      <td>16120257-80e3-4e78-9f2c-af3d71dd5fea</td>\n",
       "      <td>2</td>\n",
       "      <td>3</td>\n",
       "      <td>comment section for news article</td>\n",
       "      <td>2023-07-24 15:29:11</td>\n",
       "      <td>gui_29062</td>\n",
       "      <td>gui_52482</td>\n",
       "      <td>[NLR_SBERT, NLR_S2W, NLR_SBERT_S2W, DFB4, DFB5]</td>\n",
       "      <td>[1, 15, 1, 2, 3]</td>\n",
       "      <td>[-1, 7, 182, 16, 0]</td>\n",
       "      <td>0.500000</td>\n",
       "      <td>0.062500</td>\n",
       "      <td>0.500000</td>\n",
       "      <td>182</td>\n",
       "    </tr>\n",
       "  </tbody>\n",
       "</table>\n",
       "</div>"
      ],
      "text/plain": [
       "                                user_id                                gui_id  task_number  gui_number                         nlr_query           timestamp selected_gui_id_initial selected_gui_id_reselected                                                                           rank_methods                                           ranks_initial                                ranks_reselected  MRR_SBERT   MRR_S2W  MRR_SBERT_S2W  rank_improvement\n",
       "1  36a0a106-544c-41ba-8a87-f9271ebbf589  117a851a-d372-4345-93d1-173083e5c263            1           2                      product page 2023-07-24 13:42:09               gui_59872                  gui_23359                [NLR_SBERT, NLR_S2W, NLR_SBERT_S2W, DFB4, DFB5, DFB6, DFB7, DFB8, DFB9]               [58, 24, 3, 135, 152, 182, 168, 155, 139]              [-1, 6, 168, 11, 46, 9, 14, 19, 2]   0.016949  0.040000       0.250000               166\n",
       "4  c04ffcd2-b9f5-4e4f-baf9-ff055e61d659  828e5bc1-dbf9-47a1-a7c0-919f7eaf95ae            3           2                      user profile 2023-07-24 14:05:47               gui_64741                  gui_50314  [NLR_SBERT, NLR_S2W, NLR_SBERT_S2W, AFB4, DFB5, DFB6, DFB7, DFB8, DFB9, DFB10, DFB11]        [121, -1, 326, -1, 87, 43, 45, 79, 91, 116, 125]  [230, 260, 99, -1, 17, 32, 50, 38, 46, 17, 17]   0.008197  0.000000       0.003058                82\n",
       "6  9f95f568-fe20-4ef1-8d18-38565ab7e388  5c63126c-d909-4531-8672-2cd06d743964            2           1                         news feed 2023-07-24 15:08:25               gui_37241                  gui_22914                      [NLR_SBERT, NLR_S2W, NLR_SBERT_S2W, DFB4, DFB5, DFB6, DFB7, DFB8]                             [74, 16, 8, 6, 5, 6, 10, 4]                     [566, 7, 17, 1, 1, 2, 3, 2]   0.013333  0.058824       0.111111                15\n",
       "7  d90dea30-a7f3-44c0-afdf-07c25ef30829  eb476d80-e1c7-467b-82fb-98457aa69174            2           2               article in news app 2023-07-24 15:19:33               gui_50663                  gui_55280  [NLR_SBERT, NLR_S2W, NLR_SBERT_S2W, DFB4, DFB5, DFB6, DFB7, DFB8, DFB9, DFB10, DFB11]  [626, 135, 34, 143, 154, 156, 138, 143, 136, 126, 120]  [-1, 79, 196, 258, 43, 26, 49, 73, 72, 85, 92]   0.001595  0.007353       0.028571               104\n",
       "8  8ca31c27-2a96-4c9d-bf75-c4b041d3ad49  16120257-80e3-4e78-9f2c-af3d71dd5fea            2           3  comment section for news article 2023-07-24 15:29:11               gui_29062                  gui_52482                                        [NLR_SBERT, NLR_S2W, NLR_SBERT_S2W, DFB4, DFB5]                                        [1, 15, 1, 2, 3]                             [-1, 7, 182, 16, 0]   0.500000  0.062500       0.500000               182"
      ]
     },
     "execution_count": 214,
     "metadata": {},
     "output_type": "execute_result"
    }
   ],
   "source": [
    "gui_ranking_reselected[:5]"
   ]
  },
  {
   "cell_type": "code",
   "execution_count": 215,
   "id": "23e3c2db",
   "metadata": {},
   "outputs": [
    {
     "name": "stdout",
     "output_type": "stream",
     "text": [
      "Percentage of reselections: 0.6805555555555556\n"
     ]
    }
   ],
   "source": [
    "print('Percentage of reselections: {}'.format(len(gui_ranking_reselected)/len(gui_ranking_relevance)))"
   ]
  },
  {
   "cell_type": "code",
   "execution_count": 216,
   "id": "6ae847c3",
   "metadata": {},
   "outputs": [
    {
     "data": {
      "text/plain": [
       "count     49.000000\n",
       "mean      61.897959\n",
       "std       79.826699\n",
       "min      -26.000000\n",
       "25%       10.000000\n",
       "50%       28.000000\n",
       "75%       82.000000\n",
       "max      335.000000\n",
       "Name: rank_improvement, dtype: float64"
      ]
     },
     "execution_count": 216,
     "metadata": {},
     "output_type": "execute_result"
    }
   ],
   "source": [
    "gui_ranking_reselected['rank_improvement'].describe()"
   ]
  },
  {
   "cell_type": "markdown",
   "id": "323c67bd",
   "metadata": {},
   "source": [
    "# 4. User Study Analysis"
   ]
  },
  {
   "cell_type": "code",
   "execution_count": 238,
   "id": "33ce1570",
   "metadata": {},
   "outputs": [],
   "source": [
    "survey = pd.read_csv(abs_path_data+'/user_study/survey/survey.csv', delimiter=',')"
   ]
  },
  {
   "cell_type": "markdown",
   "id": "d930072a",
   "metadata": {},
   "source": [
    "## 4.1 Demographics"
   ]
  },
  {
   "cell_type": "code",
   "execution_count": 240,
   "id": "7943db54",
   "metadata": {},
   "outputs": [
    {
     "data": {
      "text/plain": [
       "Counter({'B.Sc.': 7, 'M.Sc.': 5})"
      ]
     },
     "execution_count": 240,
     "metadata": {},
     "output_type": "execute_result"
    }
   ],
   "source": [
    "degree = survey.iloc[:,1].values.tolist()\n",
    "from collections import Counter\n",
    "counter_degree = Counter(degree)\n",
    "counter_degree"
   ]
  },
  {
   "cell_type": "code",
   "execution_count": 241,
   "id": "44e647dc",
   "metadata": {},
   "outputs": [
    {
     "data": {
      "text/plain": [
       "count    12.000000\n",
       "mean      2.166667\n",
       "std       0.834847\n",
       "min       1.000000\n",
       "25%       2.000000\n",
       "50%       2.000000\n",
       "75%       2.250000\n",
       "max       4.000000\n",
       "Name: How would you rate your experience in GUI Prototyping?, dtype: float64"
      ]
     },
     "execution_count": 241,
     "metadata": {},
     "output_type": "execute_result"
    }
   ],
   "source": [
    "survey.iloc[:,2].describe()"
   ]
  },
  {
   "cell_type": "code",
   "execution_count": 242,
   "id": "1cda484d",
   "metadata": {},
   "outputs": [
    {
     "data": {
      "text/plain": [
       "count    12.000000\n",
       "mean      3.500000\n",
       "std       0.904534\n",
       "min       2.000000\n",
       "25%       3.000000\n",
       "50%       4.000000\n",
       "75%       4.000000\n",
       "max       5.000000\n",
       "Name: How would you rate your experience in software development?, dtype: float64"
      ]
     },
     "execution_count": 242,
     "metadata": {},
     "output_type": "execute_result"
    }
   ],
   "source": [
    "survey.iloc[:,3].describe()"
   ]
  },
  {
   "cell_type": "code",
   "execution_count": 243,
   "id": "79f95ba7",
   "metadata": {},
   "outputs": [
    {
     "data": {
      "text/plain": [
       "Counter({'No': 9, 'Yes': 3})"
      ]
     },
     "execution_count": 243,
     "metadata": {},
     "output_type": "execute_result"
    }
   ],
   "source": [
    "used_any_prototyping_tool_before = survey.iloc[:,4].values.tolist()\n",
    "counter_tool = Counter(used_any_prototyping_tool_before)\n",
    "counter_tool"
   ]
  },
  {
   "cell_type": "code",
   "execution_count": 244,
   "id": "b3183a85",
   "metadata": {},
   "outputs": [],
   "source": [
    "tools_used = survey.iloc[:,5].values.tolist()\n",
    "tools = [elem.strip().lower() for tool in tools_used if str(tool) != 'nan'\n",
    "              for elem in tool.split(',')]"
   ]
  },
  {
   "cell_type": "code",
   "execution_count": 245,
   "id": "aecb75bc",
   "metadata": {},
   "outputs": [
    {
     "data": {
      "text/plain": [
       "Counter({'mockplus': 1, 'wireframe': 1})"
      ]
     },
     "execution_count": 245,
     "metadata": {},
     "output_type": "execute_result"
    }
   ],
   "source": [
    "counter_tools = Counter(tools)\n",
    "counter_tools"
   ]
  },
  {
   "cell_type": "markdown",
   "id": "11b2b913",
   "metadata": {},
   "source": [
    "## 4.2 Perceived Usefulness"
   ]
  },
  {
   "cell_type": "markdown",
   "id": "94c18df0",
   "metadata": {},
   "source": [
    "### 4.2.1 How much did SERGUI support you during the prototyping process?"
   ]
  },
  {
   "cell_type": "code",
   "execution_count": 246,
   "id": "d54cfeb5",
   "metadata": {},
   "outputs": [
    {
     "data": {
      "text/plain": [
       "count    12.000000\n",
       "mean      4.250000\n",
       "std       0.753778\n",
       "min       3.000000\n",
       "25%       4.000000\n",
       "50%       4.000000\n",
       "75%       5.000000\n",
       "max       5.000000\n",
       "Name: How much did SERGUI support you during the prototyping process?, dtype: float64"
      ]
     },
     "execution_count": 246,
     "metadata": {},
     "output_type": "execute_result"
    }
   ],
   "source": [
    "survey.iloc[:,6].describe()"
   ]
  },
  {
   "cell_type": "code",
   "execution_count": 248,
   "id": "aa20a954",
   "metadata": {},
   "outputs": [
    {
     "data": {
      "image/png": "[encoded data removed]",
      "text/plain": [
       "<Figure size 400x300 with 1 Axes>"
      ]
     },
     "metadata": {},
     "output_type": "display_data"
    }
   ],
   "source": [
    "plt.figure(figsize=(4, 3))\n",
    "\n",
    "plt.hist(survey.iloc[:, 6].values.tolist(), bins=5, range=(1, 5))\n",
    "plt.tight_layout()\n",
    "\n",
    "plt.show()"
   ]
  },
  {
   "cell_type": "markdown",
   "id": "541581c3",
   "metadata": {},
   "source": [
    "### 4.2.2 How relevant were the shown GUIs for your initial requirements on average?"
   ]
  },
  {
   "cell_type": "code",
   "execution_count": 249,
   "id": "3ce799fe",
   "metadata": {},
   "outputs": [
    {
     "data": {
      "text/plain": [
       "count    12.000000\n",
       "mean      4.166667\n",
       "std       0.717741\n",
       "min       3.000000\n",
       "25%       4.000000\n",
       "50%       4.000000\n",
       "75%       5.000000\n",
       "max       5.000000\n",
       "Name: How relevant were the shown GUIs for your initial requirements on average?, dtype: float64"
      ]
     },
     "execution_count": 249,
     "metadata": {},
     "output_type": "execute_result"
    }
   ],
   "source": [
    "survey.iloc[:,7].describe()"
   ]
  },
  {
   "cell_type": "code",
   "execution_count": 250,
   "id": "0a7847fe",
   "metadata": {},
   "outputs": [
    {
     "data": {
      "image/png": "[encoded data removed]",
      "text/plain": [
       "<Figure size 400x300 with 1 Axes>"
      ]
     },
     "metadata": {},
     "output_type": "display_data"
    }
   ],
   "source": [
    "plt.figure(figsize=(4, 3)) \n",
    "\n",
    "plt.hist(survey.iloc[:, 7].values.tolist(), bins=5, range=(1, 5))\n",
    "plt.tight_layout()\n",
    "\n",
    "plt.show()"
   ]
  },
  {
   "cell_type": "markdown",
   "id": "46f0e247",
   "metadata": {},
   "source": [
    "### 4.2.3 How relevant were the recommend GUI features on average?"
   ]
  },
  {
   "cell_type": "code",
   "execution_count": 251,
   "id": "2c877ed2",
   "metadata": {},
   "outputs": [
    {
     "data": {
      "text/plain": [
       "count    12.000000\n",
       "mean      3.833333\n",
       "std       0.937437\n",
       "min       2.000000\n",
       "25%       3.000000\n",
       "50%       4.000000\n",
       "75%       4.250000\n",
       "max       5.000000\n",
       "Name: How relevant were the recommend GUI features on average?, dtype: float64"
      ]
     },
     "execution_count": 251,
     "metadata": {},
     "output_type": "execute_result"
    }
   ],
   "source": [
    "survey.iloc[:,8].describe()"
   ]
  },
  {
   "cell_type": "code",
   "execution_count": 252,
   "id": "983a0294",
   "metadata": {},
   "outputs": [
    {
     "data": {
      "image/png": "[encoded data removed]",
      "text/plain": [
       "<Figure size 400x300 with 1 Axes>"
      ]
     },
     "metadata": {},
     "output_type": "display_data"
    }
   ],
   "source": [
    "plt.figure(figsize=(4, 3))\n",
    "\n",
    "plt.hist(survey.iloc[:, 8].values.tolist(), bins=5, range=(1, 5))\n",
    "plt.tight_layout()\n",
    "\n",
    "plt.show()"
   ]
  },
  {
   "cell_type": "markdown",
   "id": "418d0b22",
   "metadata": {},
   "source": [
    "### 4.2.4 How relevant were the visualizations of GUI features on average?"
   ]
  },
  {
   "cell_type": "code",
   "execution_count": 253,
   "id": "9606ea8c",
   "metadata": {},
   "outputs": [
    {
     "data": {
      "text/plain": [
       "count    12.000000\n",
       "mean      2.916667\n",
       "std       0.514929\n",
       "min       2.000000\n",
       "25%       3.000000\n",
       "50%       3.000000\n",
       "75%       3.000000\n",
       "max       4.000000\n",
       "Name: How relevant were the visualizations of GUI features on average?, dtype: float64"
      ]
     },
     "execution_count": 253,
     "metadata": {},
     "output_type": "execute_result"
    }
   ],
   "source": [
    "survey.iloc[:,9].describe()"
   ]
  },
  {
   "cell_type": "code",
   "execution_count": 254,
   "id": "9e6c6453",
   "metadata": {},
   "outputs": [
    {
     "data": {
      "image/png": "[encoded data removed]",
      "text/plain": [
       "<Figure size 400x300 with 1 Axes>"
      ]
     },
     "metadata": {},
     "output_type": "display_data"
    }
   ],
   "source": [
    "plt.figure(figsize=(4, 3))\n",
    "\n",
    "plt.hist(survey.iloc[:, 9].values.tolist(), bins=5, range=(1, 5))\n",
    "plt.tight_layout()\n",
    "\n",
    "plt.show()"
   ]
  },
  {
   "cell_type": "markdown",
   "id": "5c335942",
   "metadata": {},
   "source": [
    "### 4.2.5 How much did the feature recommendations help you in adding relevant features that you did not think about initially?"
   ]
  },
  {
   "cell_type": "code",
   "execution_count": 255,
   "id": "268e7972",
   "metadata": {},
   "outputs": [
    {
     "data": {
      "text/plain": [
       "count    12.000000\n",
       "mean      4.250000\n",
       "std       0.965307\n",
       "min       2.000000\n",
       "25%       4.000000\n",
       "50%       4.500000\n",
       "75%       5.000000\n",
       "max       5.000000\n",
       "Name: How much did the feature recommendations help you in adding relevant features that you did not think about initially?, dtype: float64"
      ]
     },
     "execution_count": 255,
     "metadata": {},
     "output_type": "execute_result"
    }
   ],
   "source": [
    "survey.iloc[:,10].describe()"
   ]
  },
  {
   "cell_type": "code",
   "execution_count": 256,
   "id": "c5391d64",
   "metadata": {},
   "outputs": [
    {
     "data": {
      "image/png": "[encoded data removed]",
      "text/plain": [
       "<Figure size 400x300 with 1 Axes>"
      ]
     },
     "metadata": {},
     "output_type": "display_data"
    }
   ],
   "source": [
    "plt.figure(figsize=(4, 3))\n",
    "\n",
    "plt.hist(survey.iloc[:, 10].values.tolist(), bins=5, range=(1, 5))\n",
    "plt.tight_layout()\n",
    "\n",
    "plt.show()"
   ]
  },
  {
   "cell_type": "markdown",
   "id": "97779ecc",
   "metadata": {},
   "source": [
    "### 4.2.6 How much did the visualizations of the feature recommendations help you in better understanding the features?"
   ]
  },
  {
   "cell_type": "code",
   "execution_count": 257,
   "id": "7c16d239",
   "metadata": {},
   "outputs": [
    {
     "data": {
      "text/plain": [
       "count    12.000000\n",
       "mean      3.166667\n",
       "std       1.267304\n",
       "min       1.000000\n",
       "25%       2.000000\n",
       "50%       3.000000\n",
       "75%       4.000000\n",
       "max       5.000000\n",
       "Name: How much did the visualizations of the feature recommendations help you in better understanding the features?, dtype: float64"
      ]
     },
     "execution_count": 257,
     "metadata": {},
     "output_type": "execute_result"
    }
   ],
   "source": [
    "survey.iloc[:,11].describe()"
   ]
  },
  {
   "cell_type": "code",
   "execution_count": 258,
   "id": "535667f3",
   "metadata": {},
   "outputs": [
    {
     "data": {
      "image/png": "[encoded data removed]",
      "text/plain": [
       "<Figure size 400x300 with 1 Axes>"
      ]
     },
     "metadata": {},
     "output_type": "display_data"
    }
   ],
   "source": [
    "plt.figure(figsize=(4, 3))\n",
    "\n",
    "plt.hist(survey.iloc[:, 11].values.tolist(), bins=5, range=(1, 5))\n",
    "plt.tight_layout()\n",
    "\n",
    "plt.show()"
   ]
  },
  {
   "cell_type": "markdown",
   "id": "cc101102",
   "metadata": {},
   "source": [
    "### 4.2.7 Summary"
   ]
  },
  {
   "cell_type": "code",
   "execution_count": 259,
   "id": "a7b6b433",
   "metadata": {},
   "outputs": [
    {
     "data": {
      "image/png": "[encoded data removed]",
      "text/plain": [
       "<Figure size 640x480 with 6 Axes>"
      ]
     },
     "metadata": {},
     "output_type": "display_data"
    }
   ],
   "source": [
    "f,a = plt.subplots(2,3)\n",
    "a = a.ravel()\n",
    "titles = ['(a)', '(b)', '(c)', '(d)', '(e)', '(f)']\n",
    "for idx,ax in enumerate(a):\n",
    "    ax.hist(survey.iloc[:,(6+idx)].values.tolist(), bins = 5, range=(1,5))\n",
    "    ax.set_title(titles[idx], fontsize=14)\n",
    "plt.tight_layout()"
   ]
  },
  {
   "cell_type": "code",
   "execution_count": 27,
   "id": "5ec4bc61",
   "metadata": {},
   "outputs": [],
   "source": [
    "f.savefig(abs_path_data+\"usability.pdf\")"
   ]
  },
  {
   "cell_type": "markdown",
   "id": "c3306089",
   "metadata": {},
   "source": [
    "## 4.3 System Usability Scale"
   ]
  },
  {
   "cell_type": "code",
   "execution_count": 260,
   "id": "db9141e7",
   "metadata": {},
   "outputs": [],
   "source": [
    "def compute_sus(data):\n",
    "    sus = 0\n",
    "    for i in range(0,10):\n",
    "        if i%2 == 0: \n",
    "            sus += (data[i] - 1)\n",
    "        else:\n",
    "            sus += (5 - data[i])\n",
    "    return sus * 2.5"
   ]
  },
  {
   "cell_type": "code",
   "execution_count": 261,
   "id": "094b3296",
   "metadata": {},
   "outputs": [],
   "source": [
    "sus = []\n",
    "for index, row in survey.iterrows():\n",
    "    scores = row.iloc[12:22].values.tolist()\n",
    "    sus_score = compute_sus(scores)\n",
    "    sus.append(sus_score)"
   ]
  },
  {
   "cell_type": "code",
   "execution_count": 262,
   "id": "862e0f81",
   "metadata": {},
   "outputs": [
    {
     "data": {
      "text/plain": [
       "84.16666666666667"
      ]
     },
     "execution_count": 262,
     "metadata": {},
     "output_type": "execute_result"
    }
   ],
   "source": [
    "np.mean(sus)"
   ]
  }
 ],
 "metadata": {
  "kernelspec": {
   "display_name": "Python 3 (ipykernel)",
   "language": "python",
   "name": "python3"
  },
  "language_info": {
   "codemirror_mode": {
    "name": "ipython",
    "version": 3
   },
   "file_extension": ".py",
   "mimetype": "text/x-python",
   "name": "python",
   "nbconvert_exporter": "python",
   "pygments_lexer": "ipython3",
   "version": "3.9.15"
  }
 },
 "nbformat": 4,
 "nbformat_minor": 5
}
